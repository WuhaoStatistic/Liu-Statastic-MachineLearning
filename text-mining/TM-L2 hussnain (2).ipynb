{
 "cells": [
  {
   "cell_type": "markdown",
   "metadata": {},
   "source": [
    "# L2: Text classification"
   ]
  },
  {
   "cell_type": "markdown",
   "metadata": {},
   "source": [
    "Text classification is the task of sorting text documents into predefined classes. The concrete problem you will be working on in this lab is the classification of texts with respect to their political affiliation. The specific texts you are going to classify are speeches held in the [Riksdag](https://www.riksdagen.se/en/), the Swedish national legislature."
   ]
  },
  {
   "cell_type": "markdown",
   "metadata": {},
   "source": [
    "**Before starting with this lab, here is a quick reminder about our [Rules for hand-in assignments](https://www.ida.liu.se/~TDDE16/exam.en.shtml#handins) and the [Policy on cheating and plagiarism](https://www.ida.liu.se/~TDDE16/exam.en.shtml#cheating).**"
   ]
  },
  {
   "cell_type": "markdown",
   "metadata": {},
   "source": [
    "## Data set"
   ]
  },
  {
   "cell_type": "markdown",
   "metadata": {},
   "source": [
    "The raw data for this lab comes from [The Riksdag’s Open Data](https://data.riksdagen.se/in-english/). We have tokenized the speeches and put them into two compressed [JSON](https://en.wikipedia.org/wiki/JSON) files:\n",
    "\n",
    "* `speeches-201718.json.bz2` (speeches from the 2017/2018 parliamentary session)\n",
    "* `speeches-201819.json.bz2` (ditto, from the 2018/2019 session)\n",
    "\n",
    "We start by loading these files into two separate data frames."
   ]
  },
  {
   "cell_type": "code",
   "execution_count": 1,
   "metadata": {},
   "outputs": [],
   "source": [
    "import pandas as pd\n",
    "import bz2\n",
    "\n",
    "with bz2.open('speeches-201718.json.bz2') as source:\n",
    "    speeches_201718 = pd.read_json(source)\n",
    "\n",
    "with bz2.open('speeches-201819.json.bz2') as source:\n",
    "    speeches_201819 = pd.read_json(source)"
   ]
  },
  {
   "cell_type": "markdown",
   "metadata": {},
   "source": [
    "When you inspect the two data frames, you can see that there are three labelled columns: `id` (the official speech ID), `words` (the space-separated words of the speech), and `party` (the party of the speaker, represented by its customary abbreviation)."
   ]
  },
  {
   "cell_type": "code",
   "execution_count": 2,
   "metadata": {},
   "outputs": [
    {
     "data": {
      "text/html": [
       "<div>\n",
       "<style scoped>\n",
       "    .dataframe tbody tr th:only-of-type {\n",
       "        vertical-align: middle;\n",
       "    }\n",
       "\n",
       "    .dataframe tbody tr th {\n",
       "        vertical-align: top;\n",
       "    }\n",
       "\n",
       "    .dataframe thead th {\n",
       "        text-align: right;\n",
       "    }\n",
       "</style>\n",
       "<table border=\"1\" class=\"dataframe\">\n",
       "  <thead>\n",
       "    <tr style=\"text-align: right;\">\n",
       "      <th></th>\n",
       "      <th>id</th>\n",
       "      <th>words</th>\n",
       "      <th>party</th>\n",
       "    </tr>\n",
       "  </thead>\n",
       "  <tbody>\n",
       "    <tr>\n",
       "      <th>0</th>\n",
       "      <td>H5-002-004</td>\n",
       "      <td>eders majestäter eders kungliga högheter herr ...</td>\n",
       "      <td>S</td>\n",
       "    </tr>\n",
       "    <tr>\n",
       "      <th>1</th>\n",
       "      <td>H5-003-001</td>\n",
       "      <td>aktuell debatt om situationen för ensamkommand...</td>\n",
       "      <td>V</td>\n",
       "    </tr>\n",
       "    <tr>\n",
       "      <th>2</th>\n",
       "      <td>H5-003-002</td>\n",
       "      <td>herr talman och ledamöter jag vill börja med a...</td>\n",
       "      <td>S</td>\n",
       "    </tr>\n",
       "    <tr>\n",
       "      <th>3</th>\n",
       "      <td>H5-003-003</td>\n",
       "      <td>herr talman åhörare den här debatten handlar a...</td>\n",
       "      <td>M</td>\n",
       "    </tr>\n",
       "    <tr>\n",
       "      <th>4</th>\n",
       "      <td>H5-003-004</td>\n",
       "      <td>herr talman ansvar och rättssäkerhet är två or...</td>\n",
       "      <td>SD</td>\n",
       "    </tr>\n",
       "  </tbody>\n",
       "</table>\n",
       "</div>"
      ],
      "text/plain": [
       "           id                                              words party\n",
       "0  H5-002-004  eders majestäter eders kungliga högheter herr ...     S\n",
       "1  H5-003-001  aktuell debatt om situationen för ensamkommand...     V\n",
       "2  H5-003-002  herr talman och ledamöter jag vill börja med a...     S\n",
       "3  H5-003-003  herr talman åhörare den här debatten handlar a...     M\n",
       "4  H5-003-004  herr talman ansvar och rättssäkerhet är två or...    SD"
      ]
     },
     "execution_count": 2,
     "metadata": {},
     "output_type": "execute_result"
    }
   ],
   "source": [
    "speeches_201718.head()"
   ]
  },
  {
   "cell_type": "markdown",
   "metadata": {},
   "source": [
    "Throughout the lab, we will be using the speeches from 2017/2018 as our training data, and the speeches from 2018/2019 as our test data."
   ]
  },
  {
   "cell_type": "code",
   "execution_count": 3,
   "metadata": {},
   "outputs": [],
   "source": [
    "training_data, test_data = speeches_201718, speeches_201819"
   ]
  },
  {
   "cell_type": "markdown",
   "metadata": {},
   "source": [
    "For later reference, we store the sorted list of party abbreviations."
   ]
  },
  {
   "cell_type": "code",
   "execution_count": 4,
   "metadata": {},
   "outputs": [
    {
     "name": "stdout",
     "output_type": "stream",
     "text": [
      "['C', 'KD', 'L', 'M', 'MP', 'S', 'SD', 'V']\n"
     ]
    }
   ],
   "source": [
    "parties = sorted(training_data['party'].unique())\n",
    "print(parties)"
   ]
  },
  {
   "cell_type": "markdown",
   "metadata": {},
   "source": [
    "## Problem 1: Visualization"
   ]
  },
  {
   "cell_type": "markdown",
   "metadata": {},
   "source": [
    "Your first task is to get to know the data better by producing a simple visualization.\n",
    "\n",
    "If you are not familiar with the Swedish political system and the parties represented in the Riksdag in particular, then we suggest that you have a look at the Wikipedia article about the [2018 Swedish general election](https://en.wikipedia.org/wiki/2018_Swedish_general_election).\n",
    "\n",
    "For the lab, we ask you to compare the two data frames with respect to the distribution of the speeches over the different parties. Write code to generate two bar plots that visualize this information, one for the 2017/2018 speeches and one for the 2018/2019 speeches. Inspect the two plots, and compare them\n",
    "\n",
    "* to each other\n",
    "* to the results of the 2014 and the 2018 general elections\n",
    "\n",
    "Summarize your observations in a short text in the cell below.\n",
    "\n",
    "**Tip:** If you need help with creating bar plots, [Bar Plot using Pandas](https://dfrieds.com/data-visualizations/bar-plot-python-pandas) provides a useful tutorial."
   ]
  },
  {
   "cell_type": "code",
   "execution_count": 5,
   "metadata": {},
   "outputs": [
    {
     "data": {
      "image/png": "[encoded data removed]",
      "text/plain": [
       "<Figure size 640x480 with 1 Axes>"
      ]
     },
     "metadata": {},
     "output_type": "display_data"
    }
   ],
   "source": [
    "import matplotlib.pyplot as plt\n",
    "training_data['party'].value_counts(normalize = True).plot(kind='bar')\n",
    "plt.xlabel(\"Parties\")\n",
    "plt.ylabel(\"Counts\")\n",
    "plt.title(\"Speeches 2017/2018\")\n",
    "plt.show()"
   ]
  },
  {
   "cell_type": "code",
   "execution_count": 6,
   "metadata": {},
   "outputs": [
    {
     "data": {
      "image/png": "[encoded data removed]",
      "text/plain": [
       "<Figure size 640x480 with 1 Axes>"
      ]
     },
     "metadata": {},
     "output_type": "display_data"
    }
   ],
   "source": [
    "test_data['party'].value_counts(normalize = True).plot(kind='bar')\n",
    "plt.xlabel(\"Parties\")\n",
    "plt.ylabel(\"Counts\")\n",
    "plt.title(\"Speeches 2018/2019 speeches\")\n",
    "plt.show()"
   ]
  },
  {
   "cell_type": "markdown",
   "metadata": {},
   "source": [
    "In the training and testing data, top 3 party are in the same order (**S** > **M** > **SD** ), but in the test data, bottom two parties have higher number of speeches than training data.  \n",
    "\n",
    "The results of 2017/2018 election says S,M and SD owns higher popular rate and S owns the highest one. This result can be seen from the plot, number of speeches can be seen as a represenatation of popular rate."
   ]
  },
  {
   "cell_type": "markdown",
   "metadata": {},
   "source": [
    "## Problem 2: Naive Bayes classifier"
   ]
  },
  {
   "cell_type": "markdown",
   "metadata": {},
   "source": [
    "You are now ready to train and evaluate a classifier. More specifically, we ask you to train a [Multinomial Naive Bayes](https://scikit-learn.org/stable/modules/naive_bayes.html#multinomial-naive-bayes) classifier. You will have to\n",
    "\n",
    "1. vectorize the speeches in the training data\n",
    "2. instantiate and fit the Naive Bayes model\n",
    "3. evaluate the model on the test data\n",
    "\n",
    "The scikit-learn library provides a convenience class [Pipeline](https://scikit-learn.org/stable/modules/generated/sklearn.pipeline.Pipeline.html) that allows you to solve the first two tasks with very compact code. For the evaluation you can use the function [`classification_report`](https://scikit-learn.org/stable/modules/generated/sklearn.metrics.classification_report.html), which will report per-class precision, recall and F1, as well as overall accuracy."
   ]
  },
  {
   "cell_type": "code",
   "execution_count": 7,
   "metadata": {},
   "outputs": [
    {
     "name": "stdout",
     "output_type": "stream",
     "text": [
      "              precision    recall  f1-score   support\n",
      "\n",
      "           C       0.63      0.04      0.07       671\n",
      "          KD       0.70      0.02      0.03       821\n",
      "           L       0.92      0.02      0.04       560\n",
      "           M       0.36      0.68      0.47      1644\n",
      "          MP       0.36      0.25      0.29       809\n",
      "           S       0.46      0.84      0.59      2773\n",
      "          SD       0.57      0.12      0.20      1060\n",
      "           V       0.59      0.15      0.24       950\n",
      "\n",
      "    accuracy                           0.43      9288\n",
      "   macro avg       0.57      0.26      0.24      9288\n",
      "weighted avg       0.52      0.43      0.34      9288\n",
      "\n"
     ]
    }
   ],
   "source": [
    "from sklearn.pipeline import Pipeline\n",
    "from sklearn.feature_extraction.text import CountVectorizer\n",
    "from sklearn.naive_bayes import MultinomialNB\n",
    "from sklearn.metrics import classification_report\n",
    "\n",
    "naive_bas = Pipeline([('vec', CountVectorizer()), ('MNB', MultinomialNB())])\n",
    "naive_bas.fit(training_data[\"words\"],training_data[\"party\"])\n",
    "print(classification_report(test_data[\"party\"], naive_bas.predict(test_data[\"words\"])))"
   ]
  },
  {
   "cell_type": "markdown",
   "metadata": {},
   "source": [
    "Yes, the naive bayes is a very simple model, so it works not so good."
   ]
  },
  {
   "cell_type": "markdown",
   "metadata": {},
   "source": [
    "## Problem 3: Baselines"
   ]
  },
  {
   "cell_type": "markdown",
   "metadata": {},
   "source": [
    "Evaluation metrics such as accuracy should not be understood as absolute measures of performance, but should be used only to compare different classifiers. When other classifiers are not available, a simple baseline is a classifier that generates predictions by random sampling, respecting the training set&rsquo;s class distribution. This baseline is implemented by the class [DummyClassifier](https://scikit-learn.org/stable/modules/generated/sklearn.dummy.DummyClassifier.html). What is the performance of the random baseline on the test data?"
   ]
  },
  {
   "cell_type": "code",
   "execution_count": 17,
   "metadata": {},
   "outputs": [
    {
     "name": "stdout",
     "output_type": "stream",
     "text": [
      "              precision    recall  f1-score   support\n",
      "\n",
      "           C       0.09      0.09      0.09       671\n",
      "          KD       0.10      0.07      0.08       821\n",
      "           L       0.05      0.05      0.05       560\n",
      "           M       0.18      0.20      0.19      1644\n",
      "          MP       0.10      0.14      0.12       809\n",
      "           S       0.30      0.35      0.32      2773\n",
      "          SD       0.11      0.08      0.09      1060\n",
      "           V       0.09      0.07      0.08       950\n",
      "\n",
      "    accuracy                           0.18      9288\n",
      "   macro avg       0.13      0.13      0.13      9288\n",
      "weighted avg       0.17      0.18      0.17      9288\n",
      "\n"
     ]
    }
   ],
   "source": [
    "from sklearn.dummy import DummyClassifier\n",
    "\n",
    "dummy_clas = Pipeline([('vec', CountVectorizer()), ('dummy', DummyClassifier(strategy = 'stratified'))])\n",
    "dummy_clas.fit(training_data[\"words\"],training_data[\"party\"])\n",
    "print(classification_report(test_data[\"party\"], dummy_clas.predict(test_data[\"words\"])))"
   ]
  },
  {
   "cell_type": "markdown",
   "metadata": {},
   "source": [
    "The **baseline Dummy classifier** gives **low accuraccy** for test data when compare with the **multinomail naive bayes classifier**."
   ]
  },
  {
   "cell_type": "markdown",
   "metadata": {},
   "source": [
    "An even dumber baseline is to predict, for every document, that class which appears most often in the training data. This baseline is also called the most frequent class baseline. What is the accuracy of that baseline on the test data?"
   ]
  },
  {
   "cell_type": "code",
   "execution_count": 9,
   "metadata": {},
   "outputs": [
    {
     "name": "stdout",
     "output_type": "stream",
     "text": [
      "              precision    recall  f1-score   support\n",
      "\n",
      "           C       0.00      0.00      0.00       671\n",
      "          KD       0.00      0.00      0.00       821\n",
      "           L       0.00      0.00      0.00       560\n",
      "           M       0.00      0.00      0.00      1644\n",
      "          MP       0.00      0.00      0.00       809\n",
      "           S       0.30      1.00      0.46      2773\n",
      "          SD       0.00      0.00      0.00      1060\n",
      "           V       0.00      0.00      0.00       950\n",
      "\n",
      "    accuracy                           0.30      9288\n",
      "   macro avg       0.04      0.12      0.06      9288\n",
      "weighted avg       0.09      0.30      0.14      9288\n",
      "\n"
     ]
    },
    {
     "name": "stderr",
     "output_type": "stream",
     "text": [
      "E:\\anaconda\\lib\\site-packages\\sklearn\\metrics\\_classification.py:1334: UndefinedMetricWarning: Precision and F-score are ill-defined and being set to 0.0 in labels with no predicted samples. Use `zero_division` parameter to control this behavior.\n",
      "  _warn_prf(average, modifier, msg_start, len(result))\n",
      "E:\\anaconda\\lib\\site-packages\\sklearn\\metrics\\_classification.py:1334: UndefinedMetricWarning: Precision and F-score are ill-defined and being set to 0.0 in labels with no predicted samples. Use `zero_division` parameter to control this behavior.\n",
      "  _warn_prf(average, modifier, msg_start, len(result))\n",
      "E:\\anaconda\\lib\\site-packages\\sklearn\\metrics\\_classification.py:1334: UndefinedMetricWarning: Precision and F-score are ill-defined and being set to 0.0 in labels with no predicted samples. Use `zero_division` parameter to control this behavior.\n",
      "  _warn_prf(average, modifier, msg_start, len(result))\n"
     ]
    }
   ],
   "source": [
    "import numpy as np \n",
    "\n",
    "dummy_clas2 = Pipeline([('vec', CountVectorizer()), ('dummy', DummyClassifier(strategy = 'most_frequent'))])\n",
    "dummy_clas2.fit(training_data[\"words\"],training_data[\"party\"])\n",
    "print(classification_report(test_data[\"party\"], dummy_clas2.predict(test_data[\"words\"])))"
   ]
  },
  {
   "cell_type": "markdown",
   "metadata": {},
   "source": [
    "The accuracy of **baseline Dummy classifier** using **most_frequent strategy** is **30 percent**."
   ]
  },
  {
   "cell_type": "markdown",
   "metadata": {},
   "source": [
    "## Problem 4: Creating a balanced data set"
   ]
  },
  {
   "cell_type": "markdown",
   "metadata": {},
   "source": [
    "As you saw in Problem&nbsp;1, the distribution of the speeches over the eight different parties (classes) is imbalanced. One technique used to alleviate this is **undersampling**, in which one randomly removes samples from over-represented classes until all classes are represented with the same number of samples.\n",
    "\n",
    "Implement undersampling to create a balanced subset of the training data. Rerun the evaluation from Problem&nbsp;2 on the balanced data and compare the results. Summarise your results in a short text.\n",
    "\n",
    "**Hint:** Your balanced subset should consist of 5,752 speeches."
   ]
  },
  {
   "cell_type": "code",
   "execution_count": 10,
   "metadata": {},
   "outputs": [
    {
     "data": {
      "text/plain": [
       "S     4261\n",
       "M     2370\n",
       "MP    1481\n",
       "SD    1010\n",
       "V      894\n",
       "C      865\n",
       "KD     743\n",
       "L      719\n",
       "Name: party, dtype: int64"
      ]
     },
     "execution_count": 10,
     "metadata": {},
     "output_type": "execute_result"
    }
   ],
   "source": [
    "training_data['party'].value_counts()"
   ]
  },
  {
   "cell_type": "code",
   "execution_count": 11,
   "metadata": {},
   "outputs": [
    {
     "name": "stdout",
     "output_type": "stream",
     "text": [
      "           id                                              words party\n",
      "0  H5-002-004  eders majestäter eders kungliga högheter herr ...     S\n",
      "1  H5-003-001  aktuell debatt om situationen för ensamkommand...     V\n",
      "3  H5-003-003  herr talman åhörare den här debatten handlar a...     M\n",
      "4  H5-003-004  herr talman ansvar och rättssäkerhet är två or...    SD\n",
      "5  H5-003-005  herr talman jag inleder med att tacka vänsterp...    MP\n"
     ]
    },
    {
     "name": "stderr",
     "output_type": "stream",
     "text": [
      "C:\\Users\\Wuhao\\AppData\\Local\\Temp\\ipykernel_9300\\3097641878.py:5: FutureWarning: The frame.append method is deprecated and will be removed from pandas in a future version. Use pandas.concat instead.\n",
      "  balanced_df = balanced_df.append(training_data[training_data['party']==name].sample(n=number_each))\n",
      "C:\\Users\\Wuhao\\AppData\\Local\\Temp\\ipykernel_9300\\3097641878.py:5: FutureWarning: The frame.append method is deprecated and will be removed from pandas in a future version. Use pandas.concat instead.\n",
      "  balanced_df = balanced_df.append(training_data[training_data['party']==name].sample(n=number_each))\n",
      "C:\\Users\\Wuhao\\AppData\\Local\\Temp\\ipykernel_9300\\3097641878.py:5: FutureWarning: The frame.append method is deprecated and will be removed from pandas in a future version. Use pandas.concat instead.\n",
      "  balanced_df = balanced_df.append(training_data[training_data['party']==name].sample(n=number_each))\n",
      "C:\\Users\\Wuhao\\AppData\\Local\\Temp\\ipykernel_9300\\3097641878.py:5: FutureWarning: The frame.append method is deprecated and will be removed from pandas in a future version. Use pandas.concat instead.\n",
      "  balanced_df = balanced_df.append(training_data[training_data['party']==name].sample(n=number_each))\n",
      "C:\\Users\\Wuhao\\AppData\\Local\\Temp\\ipykernel_9300\\3097641878.py:5: FutureWarning: The frame.append method is deprecated and will be removed from pandas in a future version. Use pandas.concat instead.\n",
      "  balanced_df = balanced_df.append(training_data[training_data['party']==name].sample(n=number_each))\n",
      "C:\\Users\\Wuhao\\AppData\\Local\\Temp\\ipykernel_9300\\3097641878.py:5: FutureWarning: The frame.append method is deprecated and will be removed from pandas in a future version. Use pandas.concat instead.\n",
      "  balanced_df = balanced_df.append(training_data[training_data['party']==name].sample(n=number_each))\n",
      "C:\\Users\\Wuhao\\AppData\\Local\\Temp\\ipykernel_9300\\3097641878.py:5: FutureWarning: The frame.append method is deprecated and will be removed from pandas in a future version. Use pandas.concat instead.\n",
      "  balanced_df = balanced_df.append(training_data[training_data['party']==name].sample(n=number_each))\n",
      "C:\\Users\\Wuhao\\AppData\\Local\\Temp\\ipykernel_9300\\3097641878.py:5: FutureWarning: The frame.append method is deprecated and will be removed from pandas in a future version. Use pandas.concat instead.\n",
      "  balanced_df = balanced_df.append(training_data[training_data['party']==name].sample(n=number_each))\n"
     ]
    }
   ],
   "source": [
    "number_each = training_data['party'].value_counts()[-1]\n",
    "balanced_df = pd.DataFrame()\n",
    "\n",
    "for name in parties :\n",
    "    balanced_df = balanced_df.append(training_data[training_data['party']==name].sample(n=number_each))\n",
    "\n",
    "balanced_df = balanced_df.sort_index()\n",
    "print(balanced_df.head())"
   ]
  },
  {
   "cell_type": "code",
   "execution_count": 12,
   "metadata": {},
   "outputs": [
    {
     "data": {
      "text/plain": [
       "S     719\n",
       "V     719\n",
       "M     719\n",
       "SD    719\n",
       "MP    719\n",
       "C     719\n",
       "L     719\n",
       "KD    719\n",
       "Name: party, dtype: int64"
      ]
     },
     "execution_count": 12,
     "metadata": {},
     "output_type": "execute_result"
    }
   ],
   "source": [
    "balanced_df['party'].value_counts()"
   ]
  },
  {
   "cell_type": "code",
   "execution_count": 13,
   "metadata": {},
   "outputs": [
    {
     "name": "stdout",
     "output_type": "stream",
     "text": [
      "              precision    recall  f1-score   support\n",
      "\n",
      "           C       0.27      0.45      0.34       671\n",
      "          KD       0.29      0.41      0.34       821\n",
      "           L       0.26      0.43      0.32       560\n",
      "           M       0.42      0.46      0.44      1644\n",
      "          MP       0.37      0.35      0.36       809\n",
      "           S       0.80      0.32      0.46      2773\n",
      "          SD       0.45      0.44      0.45      1060\n",
      "           V       0.39      0.57      0.46       950\n",
      "\n",
      "    accuracy                           0.41      9288\n",
      "   macro avg       0.41      0.43      0.40      9288\n",
      "weighted avg       0.50      0.41      0.42      9288\n",
      "\n"
     ]
    }
   ],
   "source": [
    "naive_bas = Pipeline([('vec', CountVectorizer()), ('MNB', MultinomialNB())])\n",
    "naive_bas.fit(balanced_df[\"words\"],balanced_df[\"party\"])\n",
    "print(classification_report(test_data[\"party\"], naive_bas.predict(test_data[\"words\"])))"
   ]
  },
  {
   "cell_type": "markdown",
   "metadata": {},
   "source": [
    "The results here have higher **F1 score** and **accuracy** than results in Problem 2."
   ]
  },
  {
   "cell_type": "markdown",
   "metadata": {},
   "source": [
    "## Problem 5: Confusion matrix"
   ]
  },
  {
   "cell_type": "markdown",
   "metadata": {},
   "source": [
    "A **confusion matrix** is a specific table that is useful when analysing the performance of a classifier. In this table, both the rows and the columns correspond to classes, and each cell $(i, j)$ states how many times a sample with gold-standard class $i$ was predicted as belonging to class $j$.\n",
    "\n",
    "In scitkit-learn, the confusion matrix of a classifier is computed by the function [`confusion_matrix`](https://scikit-learn.org/stable/modules/generated/sklearn.metrics.confusion_matrix.html). If you would rather see a visual representation, you can also use [`plot_confusion_matrix`](https://scikit-learn.org/stable/modules/generated/sklearn.metrics.plot_confusion_matrix.html).\n",
    "\n",
    "Your task is to use the confusion matrix in order to find, for each given party $p$ in the Riksdag, that other party $p'$ which the classifier that you trained in Problem&nbsp;4 most often confuses with $p$ when it predicts the party of a speaker."
   ]
  },
  {
   "cell_type": "code",
   "execution_count": 15,
   "metadata": {},
   "outputs": [
    {
     "name": "stderr",
     "output_type": "stream",
     "text": [
      "E:\\anaconda\\lib\\site-packages\\sklearn\\utils\\deprecation.py:87: FutureWarning: Function plot_confusion_matrix is deprecated; Function `plot_confusion_matrix` is deprecated in 1.0 and will be removed in 1.2. Use one of the class methods: ConfusionMatrixDisplay.from_predictions or ConfusionMatrixDisplay.from_estimator.\n",
      "  warnings.warn(msg, category=FutureWarning)\n"
     ]
    },
    {
     "data": {
      "image/png": "[encoded data removed]",
      "text/plain": [
       "<Figure size 640x480 with 2 Axes>"
      ]
     },
     "metadata": {},
     "output_type": "display_data"
    }
   ],
   "source": [
    "# Wuhao Implementation\n",
    "from sklearn.metrics import plot_confusion_matrix, confusion_matrix\n",
    "\n",
    "plot_confusion_matrix(naive_bas, test_data[\"words\"], test_data[\"party\"], normalize = \"pred\")\n",
    "plt.show()"
   ]
  },
  {
   "cell_type": "markdown",
   "metadata": {},
   "source": [
    "From the confusion matrix above, we can manually find the for each p the corressponding p' is:  \n",
    "| p | p'|\n",
    "|---|---|\n",
    "| C | KD|\n",
    "| KD | M|\n",
    "| L | C|\n",
    "| M | C|\n",
    "| MP | S|\n",
    "| S | MP|\n",
    "| SD | L|\n",
    "| V | SD|"
   ]
  },
  {
   "cell_type": "markdown",
   "metadata": {},
   "source": [
    "Take a minute to reflect on whether your results make sense."
   ]
  },
  {
   "cell_type": "markdown",
   "metadata": {},
   "source": [
    "## Problem 6: Grid search"
   ]
  },
  {
   "cell_type": "markdown",
   "metadata": {},
   "source": [
    "Until now, you have been using the vectorizer and the Naive Bayes classifier with their default hyperparameters. When working with real-world applications, you would want to find settings for the hyperparameters that maximize the performance for the task at hand.\n",
    "\n",
    "Manually tweaking the hyperparameters of the various components of a vectorizer–classifier pipeline can be cumbersome. However, scikit-learn makes it possible to run an exhaustive search for the best hyperparameters over a grid of possible values. This method is known as **grid search**.\n",
    "\n",
    "The hyperparameters of a pipeline should never be tuned on the final test set. Instead, one should either use a separate validation set, or run cross-validation over different folds. Here we will use cross-validation.\n",
    "\n",
    "Implement a grid search with 5-fold cross-validation to find the optimal parameters in a grid defined by the following choices for the hyperparameters:\n",
    "\n",
    "* In the vectorizer, try a set-of-words (binary) model in addition to the default bag-of-words model (two possible parameter values).\n",
    "* Also in the vectorizer, try extracting bigrams in addition to unigrams (two possible parameter values).\n",
    "* In the Naive Bayes classifier, try using additive smoothing with $\\alpha \\in \\{1, 0{.}1\\}$ (two possible parameter values).\n",
    "\n",
    "Use the class [GridSearchCV](https://scikit-learn.org/stable/modules/generated/sklearn.model_selection.GridSearchCV.html) from the scikit-learn library. Print the results of your best model, along with the parameter values that yielded these results."
   ]
  },
  {
   "cell_type": "code",
   "execution_count": 18,
   "metadata": {},
   "outputs": [
    {
     "name": "stdout",
     "output_type": "stream",
     "text": [
      "              precision    recall  f1-score   support\n",
      "\n",
      "           C       0.32      0.44      0.37       671\n",
      "          KD       0.35      0.40      0.37       821\n",
      "           L       0.28      0.42      0.34       560\n",
      "           M       0.48      0.46      0.47      1644\n",
      "          MP       0.33      0.44      0.37       809\n",
      "           S       0.76      0.46      0.57      2773\n",
      "          SD       0.49      0.47      0.48      1060\n",
      "           V       0.46      0.57      0.51       950\n",
      "\n",
      "    accuracy                           0.46      9288\n",
      "   macro avg       0.43      0.46      0.44      9288\n",
      "weighted avg       0.51      0.46      0.47      9288\n",
      "\n"
     ]
    }
   ],
   "source": [
    "from sklearn.model_selection import GridSearchCV\n",
    "\n",
    "parameters = {'vec__binary':(True, False), 'vec__ngram_range':[(1,1), (1,2)], \"MNB__alpha\" : (1,0.1) }\n",
    "\n",
    "\n",
    "cv_bas = GridSearchCV(naive_bas, parameters, scoring = \"f1_weighted\", cv = 5, refit = True)\n",
    "cv_bas.fit(balanced_df[\"words\"],balanced_df[\"party\"])\n",
    "cv_bas_best_par = cv_bas.best_params_\n",
    "print(classification_report(test_data[\"party\"], cv_bas.predict(test_data[\"words\"])))"
   ]
  },
  {
   "cell_type": "markdown",
   "metadata": {},
   "source": [
    "## Problem 7: Try to improve your results"
   ]
  },
  {
   "cell_type": "markdown",
   "metadata": {},
   "source": [
    "Scikit-learn makes it easy to test different vectorizer–classifier pipelines – among other things, it includes different types of logistic regression classifiers, support vector machines, and decision trees. Browse the library to see which methods are supported.\n",
    "\n",
    "Build a pipeline that you find interesting, and use grid search to find optimal settings for the hyperparameters. Print the results of your best model."
   ]
  },
  {
   "cell_type": "code",
   "execution_count": 20,
   "metadata": {},
   "outputs": [
    {
     "name": "stdout",
     "output_type": "stream",
     "text": [
      "Fitting 5 folds for each of 9 candidates, totalling 45 fits\n",
      "              precision    recall  f1-score   support\n",
      "\n",
      "           C       0.34      0.47      0.40       671\n",
      "          KD       0.37      0.34      0.36       821\n",
      "           L       0.32      0.42      0.36       560\n",
      "           M       0.54      0.41      0.46      1644\n",
      "          MP       0.29      0.51      0.37       809\n",
      "           S       0.69      0.50      0.58      2773\n",
      "          SD       0.40      0.53      0.46      1060\n",
      "           V       0.50      0.45      0.47       950\n",
      "\n",
      "    accuracy                           0.46      9288\n",
      "   macro avg       0.43      0.45      0.43      9288\n",
      "weighted avg       0.50      0.46      0.47      9288\n",
      "\n"
     ]
    }
   ],
   "source": [
    "from sklearn.svm import SVC\n",
    "from sklearn.feature_extraction.text import TfidfVectorizer\n",
    "svc = Pipeline([('vec', TfidfVectorizer()), ('SVC', SVC())])\n",
    "parameters = {'vec__ngram_range':[(1,1), (1,2), (2,2)], \"SVC__C\" : [0.5, 1, 2]}\n",
    "\n",
    "cv_svc = GridSearchCV(svc, parameters, cv = 5, scoring = \"f1_weighted\", refit = True, verbose = 1)\n",
    "cv_svc.fit(balanced_df[\"words\"], balanced_df[\"party\"])\n",
    "print(classification_report(test_data[\"party\"], cv_svc.predict(test_data[\"words\"])))"
   ]
  },
  {
   "cell_type": "code",
   "execution_count": 17,
   "metadata": {},
   "outputs": [
    {
     "name": "stdout",
     "output_type": "stream",
     "text": [
      "Fitting 5 folds for each of 9 candidates, totalling 45 fits\n",
      "              precision    recall  f1-score   support\n",
      "\n",
      "           C       0.32      0.45      0.37       671\n",
      "          KD       0.35      0.32      0.33       821\n",
      "           L       0.25      0.42      0.32       560\n",
      "           M       0.54      0.37      0.44      1644\n",
      "          MP       0.26      0.47      0.34       809\n",
      "           S       0.69      0.47      0.56      2773\n",
      "          SD       0.40      0.51      0.45      1060\n",
      "           V       0.49      0.42      0.45       950\n",
      "\n",
      "    accuracy                           0.44      9288\n",
      "   macro avg       0.41      0.43      0.41      9288\n",
      "weighted avg       0.49      0.44      0.45      9288\n",
      "\n"
     ]
    }
   ],
   "source": [
    "from sklearn.linear_model import LogisticRegression\n",
    "\n",
    "lg = Pipeline([('vec', CountVectorizer()), ('LG', LogisticRegression(solver='liblinear'))])\n",
    "parameters = {'vec__ngram_range':[(1,1), (1,2), (2,2)], \"LG__C\" : [0.1, 0.5, 0.9]}\n",
    "\n",
    "cv_lg = GridSearchCV(lg, parameters, cv = 5, scoring = \"f1_weighted\", refit = True, verbose = 1)\n",
    "cv_lg.fit(balanced_df[\"words\"], balanced_df[\"party\"])\n",
    "print(classification_report(test_data[\"party\"], cv_lg.predict(test_data[\"words\"])))"
   ]
  },
  {
   "cell_type": "markdown",
   "metadata": {},
   "source": [
    "## Reflection questions"
   ]
  },
  {
   "cell_type": "markdown",
   "metadata": {},
   "source": [
    "The following reflection questions will help you prepare for the diagnostic test. Answer each of them in the form of a short text and put your answers in the cell below. You will get feedback on your answers from your lab assistant."
   ]
  },
  {
   "cell_type": "markdown",
   "metadata": {},
   "source": [
    "**RQ 2.1:** Summarise the results of your experiments for Problem&nbsp;2. Are your results ‘good’ or ‘bad’? How do you determine that?  \n",
    "\n",
    "**A2.1** : When making comparasion between results of problem2(Naive bayes) and problem3(baseline), we can see naive bayes is much better than baseline. In this case, we think the results of problem2 is good.\n",
    "\n",
    "**RQ 2.2:** Summarise the results of your experiments for Problem&nbsp;4. Would you think that your results are typical even for other classification tasks? How would *oversampling* have looked like for this task? When would you use undersampling, when oversampling?  \n",
    "\n",
    "**A2.2**:    \n",
    "a) Summary: The results in p4 is better (higher f1 score )then results in p3 because we use a balanced dataset.  \n",
    "b) The statement \"training in balanced data can have better prediction results than training in biased data\" always hold in classification task, since it will make model be more robust to all the situation.  \n",
    "c) Oversampling will may generate same data multiple times. And it will increase the overfitting risk of class with fewer training data. So we probably will get worse performance except label 'S', since all other classes have much fewer data than 'S'.  \n",
    "d) we can use undersampling when smallest label group still contain enough data, so it's 'safe' to drop reduntant data.  \n",
    "   we can use oversampling when we are confident with data quality, and size difference between biggest and smallest label group is not huge.\n",
    "\n",
    "\n",
    "**RQ 2.3:** Which model performed best in your experiments for Problem&nbsp;6? Why is it important to do a hyperparameter search before drawing conclusions about the performance of a model? Why is it often not done, anyway? Why should you never tune hyperparameters on the test set?\n",
    "\n",
    "**A2.3**  \n",
    "a) In problem 6, we tried SVM and logistic model and we find the SVM model is better than logistic regression because of higher accuracy and weighted average.  \n",
    "\n",
    "b) Different hyperparameter will make model behave very differently.For example, in the svm model, different kernel will have different rules about distance calculating which will results in different classification. So, tunning hyperparameters is very important.\n",
    "\n",
    "c) Tunning hyper parameter is very time consuming. The time cost increase expentially with number of hyperparameters (no mention many hyperparameters are continus number).  \n",
    "\n",
    "d) Hyperparameters can not be learned automatically during training. So, modelers have to manually test which \"hyperparameter combination\" is the best. Models learn parameter on training data, modelers tune hyperparameters on validation data and finally test the model on test data to see if the model can work (can be generalized) on unseen data. So, if the hyperparameters are choosen based on test data, then the test results will make zero sense."
   ]
  },
  {
   "cell_type": "markdown",
   "metadata": {},
   "source": [
    "*TODO: Enter your answers here*"
   ]
  },
  {
   "cell_type": "markdown",
   "metadata": {},
   "source": [
    "**Congratulations on finishing L2! 👍**"
   ]
  }
 ],
 "metadata": {
  "kernelspec": {
   "display_name": "Python 3 (ipykernel)",
   "language": "python",
   "name": "python3"
  },
  "language_info": {
   "codemirror_mode": {
    "name": "ipython",
    "version": 3
   },
   "file_extension": ".py",
   "mimetype": "text/x-python",
   "name": "python",
   "nbconvert_exporter": "python",
   "pygments_lexer": "ipython3",
   "version": "3.9.7"
  }
 },
 "nbformat": 4,
 "nbformat_minor": 4
}
