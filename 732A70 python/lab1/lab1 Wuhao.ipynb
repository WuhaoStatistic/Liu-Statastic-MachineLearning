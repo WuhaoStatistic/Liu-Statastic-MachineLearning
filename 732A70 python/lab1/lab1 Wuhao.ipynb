{
 "cells": [
  {
   "cell_type": "markdown",
   "metadata": {},
   "source": [
    "# Lab 1: Python basics"
   ]
  },
  {
   "cell_type": "markdown",
   "metadata": {},
   "source": [
    "__Student I:__ abcde123 (John Doe)\n",
    "\n",
    "__Student II:__ abcde123 (Jane Doe)"
   ]
  },
  {
   "cell_type": "markdown",
   "metadata": {},
   "source": [
    "### A word of caution\n",
    "\n",
    "There are currently two versions of Python in common use, Python 2 and Python 3, which are not 100% compatible. Python 2 is slowly being phased out but has a large enough install base to still be relevant. This course uses the more modern Python 3 but while searching for help online it is not uncommon to find help for Python 2. Especially older posts on sources such as Stack Exchange might refer to Python 2 as simply \"Python\". This should not cause any serious problems but keep it in mind whenever googling. With regards to this lab, the largest differences are how `print` works and the best practice recommendations for string formatting."
   ]
  },
  {
   "cell_type": "markdown",
   "metadata": {},
   "source": [
    "### References to R\n",
    "\n",
    "Most students taking this course who are not already familiar with Python will probably have some experience of the R programming language. For this reason, there will be intermittent references to R throughout this lab. For those of you with a background in R (or MATLAB/Octave, or Julia) the most important thing to remember is that indexing starts at 0, not at 1."
   ]
  },
  {
   "cell_type": "markdown",
   "metadata": {},
   "source": [
    "### Recommended Reading\n",
    "\n",
    "This course is not built on any specific source and no specific litterature is required. However, for those who prefer to have a printed reference book, we recommended the books by Mark Lutz:\n",
    "\n",
    "* Learning Python by Mark Lutz, 5th edition, O'Reilly. Recommended for those who have no experience of Python. This book is called LP in the text below.\n",
    "\n",
    "* Programming Python by Mark Lutz, 4th edition, O'Reilly. Recommended for those who have some experience with Python, it generally covers more advanced topics than what is included in this course but gives you a chance to dig a bit deeper if you're already comfortable with the basics. This book is called PP in the text.\n",
    "\n",
    "For the student interested in Python as a language, it is worth mentioning\n",
    "* Fluent Python by Luciano Ramalho (also O'Reilly). Note that it is - at the time of writing - still in its first edition, from 2015. Thus newer features will be missing."
   ]
  },
  {
   "cell_type": "markdown",
   "metadata": {},
   "source": [
    "### A note about notebooks\n",
    "\n",
    "When using this notebook, you can enter python code in the empty cells, then press ctrl-enter. The code in the cell is executed and if any output occurs it will be displayed below the square. Code executed in this manner will use the same environment regardless of where in the notebook document it is placed. This means that variables and functions assigned values in one cell will thereafter be accessible from all other cells in your notebook session.\n",
    "\n",
    "Note that the programming environments described in section 1 of LP is not applicable when you run python in this notebook."
   ]
  },
  {
   "cell_type": "markdown",
   "metadata": {},
   "source": [
    "### A note about the structure of this lab\n",
    "\n",
    "This lab will contain tasks of varying difficulty. There might be cases when the solution seems too simple to be true (in retrospect), and cases where you have seen similar material elsewhere in the course. Don't be fooled by this. In many cases, the task might just serve to remind us of things that are worthwhile to check out, or to find out how to use a specific method.\n",
    "\n",
    "We will be returning to, and using, several of the concepts in this lab."
   ]
  },
  {
   "cell_type": "markdown",
   "metadata": {},
   "source": [
    "### 1. Strings and string handling\n",
    "\n",
    "The primary datatype for storing raw text in Python is the string. Note that there is no character datatype, only strings of length 1. This can be compared to how there are no atomic numbers in R, only vectors of length 1. A reference to the string datatype can be found __[here](https://docs.python.org/3/library/stdtypes.html#text-sequence-type-str)__.\n",
    "\n",
    "[Litterature: LP: Part II, especially Chapter 4, 7.]"
   ]
  },
  {
   "cell_type": "markdown",
   "metadata": {},
   "source": [
    "a) Define the variable `parrot` as the string containing the sentence _It is dead, that is what is wrong with it. This is an ex-\"Parrot\"!_. \n",
    "\n",
    "[Note: If you have been programming in a language such as C or Java, you might be a bit confused about the term \"define\". Different languages use different terms when creating variables, such as \"define\", \"declare\", \"initialize\", etc. with slightly different meanings. In statically typed languages such as C or Java, declaring a variable creates a name connected to a container which can contain data of a specific type, but does not put a value in that container. Initialization is then the act of putting an initial value in such a container. Defining a variable is often used as a synonym to declaring a variable in statically typed languages but as Python is dynamically typed, i.e. variables can contain values of any type, there is no need to declare variables before initializing them. Thus, defining a variable in python entails simply assigning a value to a new name, at which point the variable is both declared and initialized. This works exactly as in R.]"
   ]
  },
  {
   "cell_type": "code",
   "execution_count": 11,
   "metadata": {},
   "outputs": [],
   "source": [
    "parrot = 'It is dead,that is what is wrong with it. This is an ex-\"Parrot\"!.'"
   ]
  },
  {
   "cell_type": "markdown",
   "metadata": {},
   "source": [
    "b) What methods does the string now called `parrot` (or indeed any string) seem to support? Write Python commands below to find out."
   ]
  },
  {
   "cell_type": "code",
   "execution_count": 12,
   "metadata": {},
   "outputs": [
    {
     "name": "stdout",
     "output_type": "stream",
     "text": [
      "['__add__', '__class__', '__contains__', '__delattr__', '__dir__', '__doc__', '__eq__', '__format__', '__ge__', '__getattribute__', '__getitem__', '__getnewargs__', '__gt__', '__hash__', '__init__', '__init_subclass__', '__iter__', '__le__', '__len__', '__lt__', '__mod__', '__mul__', '__ne__', '__new__', '__reduce__', '__reduce_ex__', '__repr__', '__rmod__', '__rmul__', '__setattr__', '__sizeof__', '__str__', '__subclasshook__', 'capitalize', 'casefold', 'center', 'count', 'encode', 'endswith', 'expandtabs', 'find', 'format', 'format_map', 'index', 'isalnum', 'isalpha', 'isascii', 'isdecimal', 'isdigit', 'isidentifier', 'islower', 'isnumeric', 'isprintable', 'isspace', 'istitle', 'isupper', 'join', 'ljust', 'lower', 'lstrip', 'maketrans', 'partition', 'replace', 'rfind', 'rindex', 'rjust', 'rpartition', 'rsplit', 'rstrip', 'split', 'splitlines', 'startswith', 'strip', 'swapcase', 'title', 'translate', 'upper', 'zfill']\n"
     ]
    }
   ],
   "source": [
    "print(dir(parrot))"
   ]
  },
  {
   "cell_type": "markdown",
   "metadata": {},
   "source": [
    "c) Count the number of characters (letters, blank space, commas, periods\n",
    "etc) in the sentence."
   ]
  },
  {
   "cell_type": "code",
   "execution_count": 13,
   "metadata": {},
   "outputs": [
    {
     "name": "stdout",
     "output_type": "stream",
     "text": [
      "66\n"
     ]
    }
   ],
   "source": [
    "print(len(parrot))"
   ]
  },
  {
   "cell_type": "markdown",
   "metadata": {},
   "source": [
    "d) If we type `parrot + parrot`, should it change the string itself, or merely produce a new string? How would you test your intuition? Write expressions below."
   ]
  },
  {
   "cell_type": "code",
   "execution_count": 14,
   "metadata": {},
   "outputs": [
    {
     "name": "stdout",
     "output_type": "stream",
     "text": [
      "it merely produces a new string\n",
      "new string:  It is dead,that is what is wrong with it. This is an ex-\"Parrot\"!.It is dead,that is what is wrong with it. This is an ex-\"Parrot\"!.\n",
      "original string: It is dead,that is what is wrong with it. This is an ex-\"Parrot\"!.\n"
     ]
    }
   ],
   "source": [
    "print('it merely produces a new string')\n",
    "print('new string: ',parrot+parrot)\n",
    "print('original string:',parrot)"
   ]
  },
  {
   "cell_type": "markdown",
   "metadata": {},
   "source": [
    "e) Separate the sentence into a list of words (possibly including separators) using a built-in method. Call the list `parrot_words`."
   ]
  },
  {
   "cell_type": "code",
   "execution_count": 15,
   "metadata": {},
   "outputs": [
    {
     "name": "stdout",
     "output_type": "stream",
     "text": [
      "['It', 'is', 'dead,that', 'is', 'what', 'is', 'wrong', 'with', 'it.', 'This', 'is', 'an', 'ex-\"Parrot\"!.']\n"
     ]
    }
   ],
   "source": [
    "parrot_words = parrot.split(' ')\n",
    "print(parrot_words)"
   ]
  },
  {
   "cell_type": "markdown",
   "metadata": {},
   "source": [
    "f) Merge (concatenate) `parrot_words` into a string again."
   ]
  },
  {
   "cell_type": "code",
   "execution_count": 16,
   "metadata": {},
   "outputs": [
    {
     "name": "stdout",
     "output_type": "stream",
     "text": [
      "It is dead,that is what is wrong with it. This is an ex-\"Parrot\"!.\n"
     ]
    }
   ],
   "source": [
    "merge = ' '.join(parrot_words)\n",
    "print(merge)"
   ]
  },
  {
   "cell_type": "markdown",
   "metadata": {},
   "source": [
    "g) Create a string `parrot_info` which consists of \"The length of parrot_info is 66.\" (the length of the string should be calculated automatically, and you may not write any numbers in the string). Use f-string syntax!"
   ]
  },
  {
   "cell_type": "code",
   "execution_count": 17,
   "metadata": {},
   "outputs": [
    {
     "name": "stdout",
     "output_type": "stream",
     "text": [
      "The length of parrot_info is 66\n"
     ]
    }
   ],
   "source": [
    "parrot_info = f'The length of parrot_info is {len(parrot)}'\n",
    "print(parrot_info)"
   ]
  },
  {
   "cell_type": "markdown",
   "metadata": {},
   "source": [
    "### 2. Iteration, sequences and string formatting\n",
    "\n",
    "Loops are not as painfully slow in Python as they are in R and thus, not as critical to avoid. However, for many use cases, _comprehensions_, like _list comprehensions_ or _dict comprehensions_ are faster. In this assignment we will see both traditional loop constructs and comprehensions. For an introduction to comprehensions, __[this](https://python-3-patterns-idioms-test.readthedocs.io/en/latest/Comprehensions.html)__ might be a good place to start.\n",
    "\n",
    "It should also be noted that what Python calls lists are unnamed sequences. As in R, a Python list can contain elements of many types, however, these can only be accessed by indexing or sequence, not by name as in R."
   ]
  },
  {
   "cell_type": "markdown",
   "metadata": {},
   "source": [
    "a) Write a `for`-loop that produces the following output on the screen:<br>\n",
    "> `The next number in the loop is 5`<br>\n",
    "> `The next number in the loop is 6`<br>\n",
    "> ...<br>\n",
    "> `The next number in the loop is 10`<br>\n",
    "\n",
    "[Hint: the `range` function has more than one argument.]<br>\n",
    "[Literature: For the range construct see LP part II chapter 4 (p.112).]"
   ]
  },
  {
   "cell_type": "code",
   "execution_count": 18,
   "metadata": {},
   "outputs": [
    {
     "name": "stdout",
     "output_type": "stream",
     "text": [
      "5\n",
      "6\n",
      "7\n",
      "8\n",
      "9\n",
      "10\n"
     ]
    }
   ],
   "source": [
    "for i in range(5,11,1):\n",
    "    print(i)"
   ]
  },
  {
   "cell_type": "markdown",
   "metadata": {},
   "source": [
    "b) Write a `for`-loop that for a given`n` sets `first_n_squared` to the sum of squares of the first `n` numbers (0..n-1). Call the iteration variable `i`."
   ]
  },
  {
   "cell_type": "code",
   "execution_count": 19,
   "metadata": {},
   "outputs": [
    {
     "data": {
      "text/plain": [
       "328350"
      ]
     },
     "execution_count": 19,
     "metadata": {},
     "output_type": "execute_result"
    }
   ],
   "source": [
    "n = 100  # If we change this and run the code, the value of first_n_squared should change afterwards!\n",
    "# your code goes here\n",
    "first_n_squared = 0\n",
    "for i in range(0,n,1):\n",
    "    first_n_squared += i**2\n",
    "first_n_squared   # should return 0^2 + 1^2 + ... + 99^2 = 328350 if n = 100"
   ]
  },
  {
   "cell_type": "markdown",
   "metadata": {},
   "source": [
    "Hint (not mandatory): iteration is often about a gradual procedure of updating or computing. Write out, on paper, how you would compute $0^2$, $0^2 + 1^2$, $0^2 + 1^2 + 2^2$, and consider what kinds of gradual updates you might want to perform."
   ]
  },
  {
   "cell_type": "markdown",
   "metadata": {},
   "source": [
    "c) It is often worth considering what a piece of code actually contributes. Think about a single loop iteration (when we go through the body of the loop). What should the variable `first_n_squared` contain _before_ a loop iteration? What should the loop iteration contribute? What does it contain _after_ ? A sentence or two for each is enough. Write this as a code comment in the box below:"
   ]
  },
  {
   "cell_type": "code",
   "execution_count": 20,
   "metadata": {},
   "outputs": [
    {
     "data": {
      "text/plain": [
       "'\\nBefore a loop iteration: It should contains a number 0.\\n\\nAfter: It should contrains the squared sum from 0 to n-1. \\n\\n\\nContributed: It contributes the squared value of every number in the loop(from 0 to n-1)\\n'"
      ]
     },
     "execution_count": 20,
     "metadata": {},
     "output_type": "execute_result"
    }
   ],
   "source": [
    "\"\"\"\n",
    "Before a loop iteration: It should contains a number 0.\n",
    "\n",
    "After: It should contrains the squared sum from 0 to n-1. \n",
    "\n",
    "\n",
    "Contributed: It contributes the squared value of every number in the loop(from 0 to n-1)\n",
    "\"\"\""
   ]
  },
  {
   "cell_type": "markdown",
   "metadata": {},
   "source": [
    "Hint: \n",
    "* Your answer might involve the iteration variable `i` (informally: the current number we're looking at in the loop).\n",
    "* After all the loop iterations are done (and your iteration variable has reached _n - 1_ ), it should contain the sum $0^2 + 1^2 + ... + (n-1)^2$. Does your explanation suggest that this should be the case?"
   ]
  },
  {
   "cell_type": "markdown",
   "metadata": {},
   "source": [
    "[Tangent: this form of reasoning can form the basis of a mathematical correctness proof for algorithms, that enables us to formally check that code does what it should. This is quite beyond the scope of this course, but the (CS-)interested reader might want to consider reading up on eg [loop invariants](https://en.wikipedia.org/wiki/Loop_invariant), We only go into it at the level of detail that actually forces us to think about what our (simple) code does.]"
   ]
  },
  {
   "cell_type": "markdown",
   "metadata": {},
   "source": [
    "d) Write a code snippet that counts the number of __letters__ (alphabetic characters) in `parrot` (as defined above). Use a `for` loop."
   ]
  },
  {
   "cell_type": "code",
   "execution_count": 21,
   "metadata": {},
   "outputs": [
    {
     "name": "stdout",
     "output_type": "stream",
     "text": [
      "47\n"
     ]
    }
   ],
   "source": [
    "count = 0\n",
    "for i in parrot:\n",
    "    if i.isalpha():\n",
    "        count+=1\n",
    "print(count)"
   ]
  },
  {
   "cell_type": "markdown",
   "metadata": {},
   "source": [
    "e) Explain your letter-counting code in the same terms as above (before, after, contributed)."
   ]
  },
  {
   "cell_type": "code",
   "execution_count": 22,
   "metadata": {},
   "outputs": [
    {
     "data": {
      "text/plain": [
       "'\\nBefore a loop iteration: The variable count should contain a number 0.\\n\\nAfter: It should contain the number of letters in the parrot.\\n\\n\\nContributed: It contributes every single character in the parrot to help judge whether the character is letter.\\n'"
      ]
     },
     "execution_count": 22,
     "metadata": {},
     "output_type": "execute_result"
    }
   ],
   "source": [
    "\"\"\"\n",
    "Before a loop iteration: The variable count should contain a number 0.\n",
    "\n",
    "After: It should contain the number of letters in the parrot.\n",
    "\n",
    "\n",
    "Contributed: It contributes every single character in the parrot to help judge whether the character is letter.\n",
    "\"\"\""
   ]
  },
  {
   "cell_type": "markdown",
   "metadata": {},
   "source": [
    "f) Write a for-loop that iterates over the list `names` below and presents them on the screen in the following fashion:\n",
    "\n",
    "> `The name Tesco is nice`<br>\n",
    "> ...<br>\n",
    "> `The name Zeno is nice`<br>\n",
    "\n",
    "Use Python's string formatting capabilities (the `format` function in the string class) to solve the problem.\n",
    "\n",
    "[Warning: The best practices for how to do string formatting differs from Python 2 and 3, make sure you use the Python 3 approach.]<br>\n",
    "[Literature: String formatting is covered in LP part II chapter 7.]"
   ]
  },
  {
   "cell_type": "code",
   "execution_count": 23,
   "metadata": {},
   "outputs": [
    {
     "name": "stdout",
     "output_type": "stream",
     "text": [
      "The name Tescois nice\n",
      "The name Forexis nice\n",
      "The name Alonzois nice\n",
      "The name Zenois nice\n"
     ]
    }
   ],
   "source": [
    "names = ['Tesco', 'Forex', 'Alonzo', 'Zeno']\n",
    "for i in names:\n",
    "    print('The name {}is nice'.format(i))"
   ]
  },
  {
   "cell_type": "markdown",
   "metadata": {},
   "source": [
    "g) Write a for-loop that iterates over the list `names` and produces the list `n_letters` (`[5,5,6,4]`) with the length of each name."
   ]
  },
  {
   "cell_type": "code",
   "execution_count": 24,
   "metadata": {},
   "outputs": [
    {
     "name": "stdout",
     "output_type": "stream",
     "text": [
      "[5, 5, 6, 4]\n"
     ]
    }
   ],
   "source": [
    "n_letters = []\n",
    "for i in names:\n",
    "    n_letters.append(len(i))\n",
    "print(n_letters)"
   ]
  },
  {
   "cell_type": "markdown",
   "metadata": {},
   "source": [
    "h) How would you - in a Python interpreter/REPL or in this Notebook - retrieve the help for the built-in function `max`?"
   ]
  },
  {
   "cell_type": "code",
   "execution_count": 25,
   "metadata": {},
   "outputs": [
    {
     "name": "stdout",
     "output_type": "stream",
     "text": [
      "Help on built-in function max in module builtins:\n",
      "\n",
      "max(...)\n",
      "    max(iterable, *[, default=obj, key=func]) -> value\n",
      "    max(arg1, arg2, *args, *[, key=func]) -> value\n",
      "    \n",
      "    With a single iterable argument, return its biggest item. The\n",
      "    default keyword-only argument specifies an object to return if\n",
      "    the provided iterable is empty.\n",
      "    With two or more arguments, return the largest argument.\n",
      "\n"
     ]
    }
   ],
   "source": [
    "help(max)"
   ]
  },
  {
   "cell_type": "markdown",
   "metadata": {},
   "source": [
    "i) Show an example of how `max` can be used with an iterable of your choice."
   ]
  },
  {
   "cell_type": "code",
   "execution_count": 26,
   "metadata": {},
   "outputs": [],
   "source": [
    "num_list = [max(0,x) for x in [-1,2,3,4,-2]]"
   ]
  },
  {
   "cell_type": "markdown",
   "metadata": {
    "collapsed": true
   },
   "source": [
    "j) Use a comprehension (or generator) to calculate the sum 0^2 + ... + (n-1)^2 as above."
   ]
  },
  {
   "cell_type": "code",
   "execution_count": 27,
   "metadata": {},
   "outputs": [],
   "source": [
    "n = 100\n",
    "first_n_squared = [x**2 for x in range(0,n)] # Change None to your solution.\n",
    "first_n_squared = sum(first_n_squared) # Should return the same result as your for-loop."
   ]
  },
  {
   "cell_type": "markdown",
   "metadata": {},
   "source": [
    "l) Use a list comprehension to produce a list `short_long` that indicates if the name (in the list `names`) has more than four letters. The answer should be `['long', 'long', 'long', 'short']`."
   ]
  },
  {
   "cell_type": "code",
   "execution_count": 33,
   "metadata": {},
   "outputs": [
    {
     "name": "stdout",
     "output_type": "stream",
     "text": [
      "['long', 'long', 'long', 'short']\n"
     ]
    }
   ],
   "source": [
    "short_long = ['long' if len(x)>4 else 'short' for x in names]\n",
    "print(short_long)"
   ]
  },
  {
   "cell_type": "markdown",
   "metadata": {},
   "source": [
    "m) Use a comprehension to count the number of letters in `parrot`. You may not use a `for`-loop. (The comprehension will contain the word `for`, but it isn't a `for ... in ...:`-statement.)"
   ]
  },
  {
   "cell_type": "code",
   "execution_count": 31,
   "metadata": {},
   "outputs": [
    {
     "name": "stdout",
     "output_type": "stream",
     "text": [
      "47\n"
     ]
    }
   ],
   "source": [
    "print(sum([1 if x.isalpha() else 0 for x in parrot]))"
   ]
  },
  {
   "cell_type": "markdown",
   "metadata": {},
   "source": [
    "[Note: this is fairly similar to the long/short task, but note how we access member functions of the values.]"
   ]
  },
  {
   "cell_type": "markdown",
   "metadata": {},
   "source": [
    "n) Below we have the string `datadump`. Retrieve the substring string starting at character 27 (that is \"o\") and ending at character 34 (\"l\") by means of slicing."
   ]
  },
  {
   "cell_type": "code",
   "execution_count": 32,
   "metadata": {},
   "outputs": [
    {
     "name": "stdout",
     "output_type": "stream",
     "text": [
      "old html\n"
     ]
    }
   ],
   "source": [
    "datadump = \"The name of the game is <b>old html</b>. That is <b>so cool</b>.\"\n",
    "print(datadump[27:35])"
   ]
  },
  {
   "cell_type": "markdown",
   "metadata": {},
   "source": [
    "o) Write a loop that uses indices to __simultaneously__ loop over the lists `names` and `short_long` to write the following to the screen:\n",
    "\n",
    "> `The name Tesco is a long name`<br>\n",
    "> ...<br>\n",
    "> `The name Zeno is a short name`<br>"
   ]
  },
  {
   "cell_type": "code",
   "execution_count": 34,
   "metadata": {},
   "outputs": [
    {
     "name": "stdout",
     "output_type": "stream",
     "text": [
      "the name Tesco is a long name\n",
      "the name Forex is a long name\n",
      "the name Alonzo is a long name\n",
      "the name Zeno is a short name\n"
     ]
    }
   ],
   "source": [
    "for i in range(len(names)):\n",
    "    print(f'the name {names[i]} is a {short_long[i]} name')"
   ]
  },
  {
   "cell_type": "markdown",
   "metadata": {},
   "source": [
    "Note: this is a common programming pattern, though not particularly Pythonic in this use case. We do however need to know how to use indices in lists to work properly with Python."
   ]
  },
  {
   "cell_type": "markdown",
   "metadata": {},
   "source": [
    "p) Do the task above once more, but this time without the use of indices."
   ]
  },
  {
   "cell_type": "code",
   "execution_count": 38,
   "metadata": {},
   "outputs": [
    {
     "name": "stdout",
     "output_type": "stream",
     "text": [
      "The name Tesco is a long name\n",
      "The name Forex is a long name\n",
      "The name Alonzo is a long name\n",
      "The name Zeno is a short name\n"
     ]
    }
   ],
   "source": [
    "for name,shortlong in zip(names,short_long):\n",
    "    print(\"The name {0} is a {1} name\".format(name,shortlong))"
   ]
  },
  {
   "cell_type": "markdown",
   "metadata": {},
   "source": [
    "[Hint: Use the `zip` function.]<br>\n",
    "[Literature: zip usage with dictionary is found in LP part II chapter 8 and dictionary comprehensions in the same place.]"
   ]
  },
  {
   "cell_type": "markdown",
   "metadata": {},
   "source": [
    "q) Among the built-in datatypes, it is also worth mentioning the tuple. Construct two tuples, `one` containing the number one and `two` containing the number 1 and the number 2. What happens if you add them? Name some method that a list with similar content (such as `two_list` below) would support, that `two` doesn't and explain why this makes sense."
   ]
  },
  {
   "cell_type": "code",
   "execution_count": null,
   "metadata": {},
   "outputs": [],
   "source": [
    "one = 1    # Change this.\n",
    "two = (1,2)    # Change this\n",
    "two_list = [1, 2]\n",
    "\n",
    "\"\"\"\n",
    "if we do \n",
    "one+two\n",
    "there will be a Type error: can only concatenate tuple (not \"int\") to tuple.\n",
    "\n",
    "Method:\n",
    "    append , sort , insert....\n",
    "Exp:\n",
    "    List is a more flexiable container which can store many elements.Tuple contains two element only,and the sequence in the tuple actually\n",
    "    have some meaning.In this case, tuple data doesn't need method like append sort or insert etc.\n",
    "\"\"\""
   ]
  },
  {
   "cell_type": "markdown",
   "metadata": {},
   "source": [
    "### 3. Conditionals, logic and while loops"
   ]
  },
  {
   "cell_type": "markdown",
   "metadata": {},
   "source": [
    "a) Below we have an integer called `n`. Write code that prints \"It's even!\" if it is even, and \"It's odd!\" if it's not."
   ]
  },
  {
   "cell_type": "code",
   "execution_count": 40,
   "metadata": {},
   "outputs": [
    {
     "name": "stdout",
     "output_type": "stream",
     "text": [
      "It's even!\n"
     ]
    }
   ],
   "source": [
    "n = 4 # Change this to other values and run your code to test.\n",
    "if n%2 ==0:\n",
    "    print(\"It's even!\")\n",
    "else:\n",
    "    print(\"It's odd!\")"
   ]
  },
  {
   "cell_type": "markdown",
   "metadata": {},
   "source": [
    "b) Below we have the list `options`. Write code (including an `if` statement) that ensures that the boolean variable `OPTIMIZE` is True _if and only if_ the list contains the string `--optimize` (exactly like that)."
   ]
  },
  {
   "cell_type": "code",
   "execution_count": 41,
   "metadata": {},
   "outputs": [
    {
     "name": "stdout",
     "output_type": "stream",
     "text": [
      "True\n"
     ]
    }
   ],
   "source": [
    "OPTIMIZE = None       # Or some value which we are unsure of.\n",
    "options = ['--print-results', '--optimize', '-x']  # This might have been generated by a GUI or command line option\n",
    "\n",
    "if '--optimize' in options:\n",
    "    OPTIMIZE=True\n",
    "print(OPTIMIZE)\n",
    "# Here OPTIMIZE should be True if and only if we found '--optimize' in the list."
   ]
  },
  {
   "cell_type": "markdown",
   "metadata": {},
   "source": [
    "Note: It might be tempting to use a `for` loop. In this case, we will not be needing this, and you may _not_ use it. Python has some useful built-ins to test for membership.\n",
    "\n",
    "You may use an `else`-free `if` statement if you like."
   ]
  },
  {
   "cell_type": "markdown",
   "metadata": {},
   "source": [
    "c) Redo the task above, but now consider the case where the boolean `OPTIMIZE` is True _if and only if_ the `options` list contains either `--optimize` or `-o` (or both). **You may only use one if-statement**."
   ]
  },
  {
   "cell_type": "code",
   "execution_count": 42,
   "metadata": {},
   "outputs": [
    {
     "name": "stdout",
     "output_type": "stream",
     "text": [
      "True\n"
     ]
    }
   ],
   "source": [
    "OPTIMIZE = None       # Or some value which we are unsure of.\n",
    "options = ['--print-results', '-o', '-x']  # This might have been generated by a GUI or command line option\n",
    "\n",
    "if '--optimize' in options or '-o' in options:\n",
    "    OPTIMIZE=True\n",
    "print(OPTIMIZE)\n",
    "\n",
    "# Here OPTIMIZE should be True if and only if we found '--optimize' or '-o' in the list."
   ]
  },
  {
   "cell_type": "markdown",
   "metadata": {},
   "source": [
    "[Hint: Don't forget to test your code with different versions of the options list! \n",
    "\n",
    "If you find something that seems strange, you might want to check what the value of the _condition itself_ is.]\n",
    "\n",
    "[Note: This extension of the task is included as it includes a common source of hard-to-spot bugs.]"
   ]
  },
  {
   "cell_type": "markdown",
   "metadata": {},
   "source": [
    "d) Sometimes we can avoid using an `if` statement altogether. The task above is a prime example of this (and was introduced to get some practice with the `if` statement). Solve the task above in a one-liner without resorting to an `if` statement. (You may use an `if` expression, but you don't have to.)"
   ]
  },
  {
   "cell_type": "code",
   "execution_count": 44,
   "metadata": {},
   "outputs": [
    {
     "name": "stdout",
     "output_type": "stream",
     "text": [
      "True\n"
     ]
    }
   ],
   "source": [
    "options = ['--print-results', '-o', '-x']  # This might have been generated by a GUI or command line option\n",
    "\n",
    "OPTIMIZE = ('--optimize' in options) or ('-o' in options)\n",
    "print(OPTIMIZE)\n",
    "\n",
    "# Here OPTIMIZE should be True if and only if we found '--optimize' or '-o' in the list."
   ]
  },
  {
   "cell_type": "markdown",
   "metadata": {},
   "source": [
    "[Hint: What should the value of the condition be when you enter the then-branch of the `if`? When you enter the else-branch?]"
   ]
  },
  {
   "cell_type": "markdown",
   "metadata": {},
   "source": [
    "e) Write a `while`-loop that repeatedly generates a random number from a uniform distribution over the interval [0,1], and prints the sentence 'The random number is smaller than 0.9' on the screen until the generated random number is greater than 0.9.\n",
    "\n",
    "[Hint: Python has a `random` module with basic random number generators.]<br/>\n",
    "\n",
    "[Literature: Introduction to the Random module can be found in LP part III chapter 5 (Numeric Types). Importing modules is introduced in part I chapter 3  and covered in depth in part IV.]"
   ]
  },
  {
   "cell_type": "code",
   "execution_count": 47,
   "metadata": {},
   "outputs": [
    {
     "name": "stdout",
     "output_type": "stream",
     "text": [
      "The random number 0.038133418482054204 is smaller than 0.9\n",
      "The random number 0.8870994345422782 is smaller than 0.9\n",
      "The random number 0.37219098983108845 is smaller than 0.9\n",
      "The random number 0.4404671422894675 is smaller than 0.9\n",
      "The random number 0.9710366092449219 is greater than 0.9 exiting while loop\n"
     ]
    }
   ],
   "source": [
    "import random\n",
    "number = 0\n",
    "while number<0.9:\n",
    "    number=random.uniform(0,1)\n",
    "    if number<0.9 :\n",
    "        print(f'The random number {number} is smaller than 0.9')\n",
    "    else :\n",
    "        print (f'The random number {number} is greater than 0.9, exiting while loop')"
   ]
  },
  {
   "cell_type": "markdown",
   "metadata": {},
   "source": [
    "### 4. Dictionaries\n",
    "\n",
    "Dictionaries are association tables, or maps, connecting a key to a value. For instance a name represented by a string as key with a number representing some attribute as a value. Dictionaries can themselves be values in other dictionaries, creating nested or hierarchical data structures. This is similar to named lists in R but keys in Python dictionaries can be more complex than just strings.\n",
    "\n",
    "[Literature: Dictionaries are found in LP section II chapter 4.]"
   ]
  },
  {
   "cell_type": "markdown",
   "metadata": {},
   "source": [
    "a) Make a dictionary named `amadeus` containing the information that the student Amadeus is a male, scored 8 on the Algebra exam and 13 on the History exam. The dictionary should NOT include a name entry."
   ]
  },
  {
   "cell_type": "code",
   "execution_count": 55,
   "metadata": {},
   "outputs": [],
   "source": [
    "amadeus = {'gender':'male','Algebra':8,'History':13}"
   ]
  },
  {
   "cell_type": "markdown",
   "metadata": {},
   "source": [
    "b) Make three more dictionaries, one for each of the students: Rosa, Mona and Ludwig, from the information in the following table:\n",
    "\n",
    "| Name          | Gender        | Algebra       | History | \n",
    "| :-----------: | :-----------: |:-------------:| :------:|\n",
    "| Rosa          | Female        | 19            | 22      |\n",
    "| Mona          | Female        | 6             | 27      |\n",
    "| Ludwig        | Other         | 12            | 18      |"
   ]
  },
  {
   "cell_type": "code",
   "execution_count": 56,
   "metadata": {},
   "outputs": [],
   "source": [
    "rosa = {'gender':'female','Algebra':19,'History':22}\n",
    "mona = {'gender':'female','Algebra':6,'History':27}\n",
    "ludwig = {'gender':'other','Algebra':12,'History':18}"
   ]
  },
  {
   "cell_type": "markdown",
   "metadata": {},
   "source": [
    "c) Combine the four students in a dictionary named `students` such that a user of your dictionary can type `students['Amadeus']['History']` to retrive Amadeus score on the history test.\n",
    "\n",
    "[HINT: The values in a dictionary can be dictionaries.]"
   ]
  },
  {
   "cell_type": "code",
   "execution_count": 57,
   "metadata": {},
   "outputs": [
    {
     "name": "stdout",
     "output_type": "stream",
     "text": [
      "13\n"
     ]
    }
   ],
   "source": [
    "students = {'Amadeus':amadeus,'Rosa':rosa,'Mona':mona,'Ludwig':ludwig}\n",
    "print(students['Amadeus']['History'])"
   ]
  },
  {
   "cell_type": "markdown",
   "metadata": {},
   "source": [
    "d) Add the new male student Karl to the dictionary `students`. Karl scored 14 on the Algebra exam and 10 on the History exam."
   ]
  },
  {
   "cell_type": "code",
   "execution_count": 70,
   "metadata": {},
   "outputs": [],
   "source": [
    "students['Karl'] = {'gender':'male','Algebra':14,'History':10}"
   ]
  },
  {
   "cell_type": "markdown",
   "metadata": {},
   "source": [
    "e) Use a `for`-loop to print out the names and scores of all students on the screen. The output should look like something this (the order of the students doesn't matter):\n",
    "\n",
    "> `Student Amadeus scored 8 on the Algebra exam and 13 on the History exam`<br>\n",
    "> `Student Rosa scored 19 on the Algebra exam and 22 on the History exam`<br>\n",
    "> ...\n",
    "\n",
    "[Hint: Dictionaries are iterables, also, check out the `items` function for dictionaries.]"
   ]
  },
  {
   "cell_type": "code",
   "execution_count": 72,
   "metadata": {},
   "outputs": [
    {
     "name": "stdout",
     "output_type": "stream",
     "text": [
      "student Amadeus scored 8 on Algebra exam and 13 on the History exam\n",
      "student Rosa scored 19 on Algebra exam and 22 on the History exam\n",
      "student Mona scored 6 on Algebra exam and 27 on the History exam\n",
      "student Ludwig scored 12 on Algebra exam and 18 on the History exam\n",
      "student Karl scored 14 on Algebra exam and 10 on the History exam\n"
     ]
    },
    {
     "data": {
      "text/plain": [
       "{'Tesco': 'long', 'Forex': 'long', 'Alonzo': 'long', 'Zeno': 'short'}"
      ]
     },
     "execution_count": 72,
     "metadata": {},
     "output_type": "execute_result"
    }
   ],
   "source": [
    "for name, info in students.items():    # Change the names of iteration variables to something moresuitable than k, v.\n",
    "    print('student {} scored {} on Algebra exam and {} on the History exam'.format(name,info['Algebra'],info['History']))\n",
    "\n"
   ]
  },
  {
   "cell_type": "markdown",
   "metadata": {},
   "source": [
    "f) Use a dict comprehension and the lists `names` and `short_long` from assignment 2 to create a dictionary of names and wether they are short or long. The result should be a dictionary equivalent to {'Forex':'long', 'Tesco':'long', ...}."
   ]
  },
  {
   "cell_type": "code",
   "execution_count": 80,
   "metadata": {},
   "outputs": [
    {
     "data": {
      "text/plain": [
       "{'Tesco': 'long', 'Forex': 'long', 'Alonzo': 'long', 'Zeno': 'short'}"
      ]
     },
     "execution_count": 80,
     "metadata": {},
     "output_type": "execute_result"
    }
   ],
   "source": [
    "{k:v for (k,v) in zip(names,short_long)}"
   ]
  },
  {
   "cell_type": "markdown",
   "metadata": {},
   "source": [
    "### 5. Introductory file I/O\n",
    "\n",
    "File I/O in Python is a bit more general than what most R programmers are used to. In R, reading and writing files are usually performed using file type specific functions such as `read.csv` while in Python we usually start with reading standard text files. However, there are lots of specialized functions for different file types in Python as well, especially when using the __[pandas](http://pandas.pydata.org/)__ library which is built around a datatype similar to R DataFrames. Pandas will not be covered in this course though.\n",
    "\n",
    "[Literature: Files are introduced in LP part II chapter 4 and chapter 9.]"
   ]
  },
  {
   "cell_type": "markdown",
   "metadata": {},
   "source": [
    "The file `students.tsv` contains tab separated values corresponding to the students in previous assigments.\n",
    "\n",
    "a) Iterate over the file, line by line, and print each line. The result should be something like this:\n",
    "\n",
    "> `Amadeus\tMale\t8\t13`<br>\n",
    "> `Rosa\tFemale\t19\t22`<br>\n",
    "> ...\n",
    "\n",
    "The file should be closed when reading is complete.\n",
    "\n",
    "[Hint: Files are iterable in Python.]"
   ]
  },
  {
   "cell_type": "code",
   "execution_count": 78,
   "metadata": {},
   "outputs": [
    {
     "name": "stdout",
     "output_type": "stream",
     "text": [
      "Amadeus\tMale\t8\t13\n",
      "\n",
      "Rosa\tFemale\t19\t22\n",
      "\n",
      "Mona\tFemale\t6\t27\n",
      "\n",
      "Ludwig\tOther\t12\t18\n",
      "\n",
      "Karl\tMale\t14\t10\n"
     ]
    }
   ],
   "source": [
    "f=open(\"students.tsv\",\"r\")\n",
    "for i in f.readlines():\n",
    "    print(i)\n",
    "f.close()"
   ]
  },
  {
   "cell_type": "markdown",
   "metadata": {},
   "source": [
    "b) Working with many files can be problematic, especially when you forget to close files or errors interrupt programs before files are closed. Python thus has a special `with` statement which automatically closes files for you, even if an error occurs. Redo the assignment above using the `with` statement.\n",
    "\n",
    "[Literature: With is introduced in LP part II chapter 9 page 294.]"
   ]
  },
  {
   "cell_type": "code",
   "execution_count": 79,
   "metadata": {},
   "outputs": [
    {
     "name": "stdout",
     "output_type": "stream",
     "text": [
      "Amadeus\tMale\t8\t13\n",
      "\n",
      "Rosa\tFemale\t19\t22\n",
      "\n",
      "Mona\tFemale\t6\t27\n",
      "\n",
      "Ludwig\tOther\t12\t18\n",
      "\n",
      "Karl\tMale\t14\t10\n"
     ]
    }
   ],
   "source": [
    "with open(\"students.tsv\",\"r\") as f:\n",
    "    for i in f.readlines():\n",
    "        print(i)\n",
    "    f.close()\n",
    "    "
   ]
  },
  {
   "cell_type": "markdown",
   "metadata": {},
   "source": [
    "c) If you are going to open text files that might have different character encodings, a useful habit might be to use the [`codecs`](https://docs.python.org/3/library/codecs.html) module. Redo the task above, but using codecs.open. You might want to find out the character encoding of the file (for instance in an edit"
   ]
  },
  {
   "cell_type": "code",
   "execution_count": 83,
   "metadata": {},
   "outputs": [
    {
     "name": "stdout",
     "output_type": "stream",
     "text": [
      "Amadeus\tMale\t8\t13\n",
      "\n",
      "Rosa\tFemale\t19\t22\n",
      "\n",
      "Mona\tFemale\t6\t27\n",
      "\n",
      "Ludwig\tOther\t12\t18\n",
      "\n",
      "Karl\tMale\t14\t10\n"
     ]
    }
   ],
   "source": [
    "import codecs\n",
    "with codecs.open(\"students.tsv\",\"r\",encoding = 'UTF-8') as f:\n",
    "    for i in f.readlines():\n",
    "        print(i)\n",
    "    f.close()"
   ]
  },
  {
   "cell_type": "markdown",
   "metadata": {},
   "source": [
    "d) Recreate the dictionary from assignment the previous assignment by reading the data from the file. Using a dedicated csv-reader is not permitted."
   ]
  },
  {
   "cell_type": "code",
   "execution_count": 84,
   "metadata": {},
   "outputs": [
    {
     "name": "stdout",
     "output_type": "stream",
     "text": [
      "{'Amadeus': {'name': 'Amadeus', 'gender': 'Male', 'Algebra': '8', 'History': '13'}, 'Rosa': {'name': 'Rosa', 'gender': 'Female', 'Algebra': '19', 'History': '22'}, 'Mona': {'name': 'Mona', 'gender': 'Female', 'Algebra': '6', 'History': '27'}, 'Ludwig': {'name': 'Ludwig', 'gender': 'Other', 'Algebra': '12', 'History': '18'}, 'Karl': {'name': 'Karl', 'gender': 'Male', 'Algebra': '14', 'History': '10'}}\n"
     ]
    }
   ],
   "source": [
    "recre_dic={}\n",
    "with open(\"students.tsv\",\"r\") as f:\n",
    "    for line in f:\n",
    "        recre_dic[line.split()[0]]={\n",
    "        \"name\":line.split()[0],\n",
    "        \"gender\":line.split()[1],\n",
    "        \"Algebra\":line.split()[2],\n",
    "        \"History\":line.split()[3]}     \n",
    "print(recre_dic)"
   ]
  },
  {
   "cell_type": "markdown",
   "metadata": {},
   "source": [
    "e) Using the dictionary above, write sentences from task 4e above to a new file, called `students.txt`."
   ]
  },
  {
   "cell_type": "code",
   "execution_count": 87,
   "metadata": {},
   "outputs": [],
   "source": [
    "with open('students.txt', 'a+') as f1:\n",
    "    for name,info in recre_dic.items():\n",
    "        f1.writelines(\"Student {} scored {} on the Algebra exam and {} on the History exam\"\n",
    "                            .format(name,info[\"Algebra\"],info[\"History\"]))\n",
    "        f1.writelines(\"\\n\")\n",
    "    f1.close()"
   ]
  },
  {
   "cell_type": "code",
   "execution_count": null,
   "metadata": {},
   "outputs": [],
   "source": []
  },
  {
   "cell_type": "code",
   "execution_count": null,
   "metadata": {},
   "outputs": [],
   "source": []
  }
 ],
 "metadata": {
  "kernelspec": {
   "display_name": "Python 3",
   "language": "python",
   "name": "python3"
  },
  "language_info": {
   "codemirror_mode": {
    "name": "ipython",
    "version": 3
   },
   "file_extension": ".py",
   "mimetype": "text/x-python",
   "name": "python",
   "nbconvert_exporter": "python",
   "pygments_lexer": "ipython3",
   "version": "3.8.11"
  }
 },
 "nbformat": 4,
 "nbformat_minor": 2
}
