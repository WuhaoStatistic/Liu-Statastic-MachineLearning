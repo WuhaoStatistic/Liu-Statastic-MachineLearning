{
 "cells": [
  {
   "cell_type": "markdown",
   "metadata": {},
   "source": [
    "# L3: Text clustering and topic modelling"
   ]
  },
  {
   "cell_type": "markdown",
   "metadata": {},
   "source": [
    "Text clustering groups documents in such a way that documents within a group are more &lsquo;similar&rsquo; to other documents in the cluster than to documents not in the cluster. The exact definition of what &lsquo;similar&rsquo; means in this context varies across applications and clustering algorithms.\n",
    "\n",
    "In this lab you will experiment with both hard and soft clustering techniques. More specifically, in the first part you will be using the $k$-means algorithm, and in the second part you will be using a topic model based on the Latent Dirichlet Allocation (LDA)."
   ]
  },
  {
   "cell_type": "markdown",
   "metadata": {},
   "source": [
    "**A quick reminder about our [Rules for hand-in assignments](https://www.ida.liu.se/~TDDE16/exam.en.shtml#handins) and the [Policy on cheating and plagiarism](https://www.ida.liu.se/~TDDE16/exam.en.shtml#cheating)**"
   ]
  },
  {
   "cell_type": "markdown",
   "metadata": {},
   "source": [
    "## Hard clustering data set"
   ]
  },
  {
   "cell_type": "markdown",
   "metadata": {},
   "source": [
    "The raw data for the hard clustering part of this lab is a collection of product reviews. We have preprocessed the data by tokenization and lowercasing."
   ]
  },
  {
   "cell_type": "code",
   "execution_count": 2,
   "metadata": {},
   "outputs": [],
   "source": [
    "import pandas as pd\n",
    "import bz2\n",
    "\n",
    "with bz2.open('reviews.json.bz2') as source:\n",
    "    df = pd.read_json(source)"
   ]
  },
  {
   "cell_type": "markdown",
   "metadata": {},
   "source": [
    "When you inspect the data frame, you can see that there are three labelled columns: `category` (the product category), `sentiment` (whether the product review was classified as &lsquo;positive&rsquo; or &lsquo;negative&rsquo; towards the product), and `text` (the space-separated text of the review)."
   ]
  },
  {
   "cell_type": "code",
   "execution_count": 3,
   "metadata": {},
   "outputs": [
    {
     "data": {
      "text/html": [
       "<div>\n",
       "<style scoped>\n",
       "    .dataframe tbody tr th:only-of-type {\n",
       "        vertical-align: middle;\n",
       "    }\n",
       "\n",
       "    .dataframe tbody tr th {\n",
       "        vertical-align: top;\n",
       "    }\n",
       "\n",
       "    .dataframe thead th {\n",
       "        text-align: right;\n",
       "    }\n",
       "</style>\n",
       "<table border=\"1\" class=\"dataframe\">\n",
       "  <thead>\n",
       "    <tr style=\"text-align: right;\">\n",
       "      <th></th>\n",
       "      <th>category</th>\n",
       "      <th>sentiment</th>\n",
       "      <th>text</th>\n",
       "    </tr>\n",
       "  </thead>\n",
       "  <tbody>\n",
       "    <tr>\n",
       "      <th>0</th>\n",
       "      <td>music</td>\n",
       "      <td>neg</td>\n",
       "      <td>i bought this album because i loved the title ...</td>\n",
       "    </tr>\n",
       "    <tr>\n",
       "      <th>1</th>\n",
       "      <td>music</td>\n",
       "      <td>neg</td>\n",
       "      <td>i was misled and thought i was buying the enti...</td>\n",
       "    </tr>\n",
       "    <tr>\n",
       "      <th>2</th>\n",
       "      <td>books</td>\n",
       "      <td>neg</td>\n",
       "      <td>i have introduced many of my ell , high school...</td>\n",
       "    </tr>\n",
       "    <tr>\n",
       "      <th>3</th>\n",
       "      <td>books</td>\n",
       "      <td>pos</td>\n",
       "      <td>anything you purchase in the left behind serie...</td>\n",
       "    </tr>\n",
       "    <tr>\n",
       "      <th>4</th>\n",
       "      <td>dvd</td>\n",
       "      <td>pos</td>\n",
       "      <td>i loved these movies , and i cant wiat for the...</td>\n",
       "    </tr>\n",
       "  </tbody>\n",
       "</table>\n",
       "</div>"
      ],
      "text/plain": [
       "  category sentiment                                               text\n",
       "0    music       neg  i bought this album because i loved the title ...\n",
       "1    music       neg  i was misled and thought i was buying the enti...\n",
       "2    books       neg  i have introduced many of my ell , high school...\n",
       "3    books       pos  anything you purchase in the left behind serie...\n",
       "4      dvd       pos  i loved these movies , and i cant wiat for the..."
      ]
     },
     "execution_count": 3,
     "metadata": {},
     "output_type": "execute_result"
    }
   ],
   "source": [
    "df.head()"
   ]
  },
  {
   "cell_type": "markdown",
   "metadata": {},
   "source": [
    "## Problem 1: K-means clustering"
   ]
  },
  {
   "cell_type": "markdown",
   "metadata": {},
   "source": [
    "Your first task is to cluster the product review data using a tf–idf vectorizer and a $k$-means clusterer."
   ]
  },
  {
   "cell_type": "markdown",
   "metadata": {},
   "source": [
    "Start by doing the vectorization. In connection with vectorization, you should also filter out standard English stop words. While you could use [spaCy](https://spacy.io/) for this task, here it suffices to use the word list implemented in [TfidfVectorizer](https://scikit-learn.org/stable/modules/generated/sklearn.feature_extraction.text.TfidfVectorizer.html)."
   ]
  },
  {
   "cell_type": "code",
   "execution_count": 4,
   "metadata": {},
   "outputs": [],
   "source": [
    "# TODO: Enter code here to vectorize the data and store it in a variable `reviews`\n",
    "from sklearn.feature_extraction.text import TfidfVectorizer\n",
    "\n",
    "vec = TfidfVectorizer(stop_words = \"english\")\n",
    "reviews = vec.fit_transform(df[\"text\"])"
   ]
  },
  {
   "cell_type": "markdown",
   "metadata": {},
   "source": [
    "Test your vectorization by running the following code cell:"
   ]
  },
  {
   "cell_type": "code",
   "execution_count": 5,
   "metadata": {},
   "outputs": [
    {
     "data": {
      "text/plain": [
       "(11914, 46619)"
      ]
     },
     "execution_count": 5,
     "metadata": {},
     "output_type": "execute_result"
    }
   ],
   "source": [
    "reviews.shape"
   ]
  },
  {
   "cell_type": "markdown",
   "metadata": {},
   "source": [
    "If you used the English stop word list from scikit-learn, then the resulting vocabulary should have 46,619 entries."
   ]
  },
  {
   "cell_type": "markdown",
   "metadata": {},
   "source": [
    "Next, cluster the vectorized data. Before doing so, you should read the documentation of the [KMeans](https://scikit-learn.org/stable/modules/generated/sklearn.cluster.KMeans.html) class, which is scikit-learn&rsquo;s implementation of the $k$-means algorithm. As you can see, this class has several parameters that you can tweak. For now, the only parameter that you will have to set is the number of clusters. Start with $k=3$.\n",
    "\n",
    "**Tip:** Training $k$-means models will take some time. To speed things up, you can use the `n_init` parameter to control the number of times that the clustering is re-computed with different initial values. The default value for this parameter is 10; here and in the rest of this lab, you may want to set this to a lower value."
   ]
  },
  {
   "cell_type": "code",
   "execution_count": 6,
   "metadata": {},
   "outputs": [],
   "source": [
    "# TODO: Enter code here to cluster the vectorized data\n",
    "from sklearn.cluster import KMeans\n",
    "kmean_res = KMeans(n_clusters=3,n_init=5).fit(reviews)"
   ]
  },
  {
   "cell_type": "markdown",
   "metadata": {},
   "source": [
    "To sanity-check your clustering, create a bar plot with the number of documents per cluster."
   ]
  },
  {
   "cell_type": "code",
   "execution_count": 7,
   "metadata": {},
   "outputs": [
    {
     "data": {
      "text/plain": [
       "<AxesSubplot:xlabel='0'>"
      ]
     },
     "execution_count": 7,
     "metadata": {},
     "output_type": "execute_result"
    },
    {
     "data": {
      "image/png": "[encoded data removed]",
      "text/plain": [
       "<Figure size 640x480 with 1 Axes>"
      ]
     },
     "metadata": {},
     "output_type": "display_data"
    }
   ],
   "source": [
    "# TODO: Enter code here to produce a bar plot of the cluster size\n",
    "pd.DataFrame(kmean_res.labels_).value_counts().plot(kind='bar')"
   ]
  },
  {
   "cell_type": "markdown",
   "metadata": {},
   "source": [
    "Note that sizes may vary considerable between clusters and among different random seeds."
   ]
  },
  {
   "cell_type": "markdown",
   "metadata": {},
   "source": [
    "## Problem 2: Summarize clusters"
   ]
  },
  {
   "cell_type": "markdown",
   "metadata": {},
   "source": [
    "Once you have a clustering, you can try to see whether it is meaningful. One useful technique in that context is to generate a **summary** for each cluster by extracting the $n$ highest-weighted terms from the centroid of each cluster. Your next task is to implement this approach.\n",
    "\n",
    "**Hint:** You will need to construct an &lsquo;inverted vocabulary&rsquo; that allows you to map from the index of a term back to the original term."
   ]
  },
  {
   "cell_type": "code",
   "execution_count": 8,
   "metadata": {},
   "outputs": [
    {
     "name": "stdout",
     "output_type": "stream",
     "text": [
      "{'like', 'time', 'album', 'product', 'good', 'use', 'cd', 'does', 'great', 'just'}\n",
      "{'book', 'like', 'story', 'movie', 'good', 'film', 'read', 'great', 'quot', 'just'}\n",
      "{'quality', 'flash', 'canon', 'battery', 'pictures', 'camera', 'lens', 'use', 'digital', 'great'}\n"
     ]
    }
   ],
   "source": [
    "# TODO: Enter code here to compute the cluster summaries and print them\n",
    "import numpy as np\n",
    "\n",
    "# voca_ is dict in the form of {word:index}\n",
    "voca_ = vec.vocabulary_\n",
    "for i in range(3):\n",
    "    # argsort return the index\n",
    "    res = np.argsort(kmean_res.cluster_centers_[i,:])[-10:]\n",
    "    t= {s for s in voca_ if voca_[s] in res}\n",
    "    print(t)"
   ]
  },
  {
   "cell_type": "markdown",
   "metadata": {},
   "source": [
    "The first cluster is about digital camera.  \n",
    "The second cluster si about media entertainment.  \n",
    "The third cluster is about book."
   ]
  },
  {
   "cell_type": "markdown",
   "metadata": {},
   "source": [
    "Once you have computed the cluster summaries, take a minute to reflect on their quality. Is it clear what the reviews in a given cluster are about? Do the cluster summaries contain any unexpected terms?"
   ]
  },
  {
   "cell_type": "markdown",
   "metadata": {},
   "source": [
    "## Problem 3: Compare clusterings using the Rand index"
   ]
  },
  {
   "cell_type": "markdown",
   "metadata": {},
   "source": [
    "In some scenarios, you may have gold-standard class labels available for at least a subset of your documents. In these cases you can compute the **Rand index** of a clustering, and use this measure to compare the quality of different clusterings.\n",
    "\n",
    "To compute the Rand index, we view a clustering as a binary classifier on (unordered) pairs of documents. The classifier predicts &lsquo;positive&rsquo; if and only if the two documents belong to the same cluster. The (non-normalized) Rand index of the clustering is the accuracy of this classifier relative to a reference in which a document pair belongs to the &lsquo;positive&rsquo; class if and only if the two documents in the pair have the same gold-standard class label. You are supposed to implement the procedure yourselves, not import an external function.\n",
    "\n",
    "Compare clusterings with $k \\in \\{1,3,5,7\\}$ clusters. As your evaluation data, use the first 500 documents from the original data set along with their gold-standard categories (from the `category` column)."
   ]
  },
  {
   "cell_type": "code",
   "execution_count": 9,
   "metadata": {},
   "outputs": [
    {
     "name": "stdout",
     "output_type": "stream",
     "text": [
      "0.16626052104208416\n",
      "0.4384529058116233\n",
      "0.6644488977955911\n",
      "0.7548136272545091\n",
      "0.7604008016032064\n"
     ]
    }
   ],
   "source": [
    "# TODO: Enter code here to (manually) compute the Rand indices for the two clusterings\n",
    "ground_truth = df[\"category\"][:500]\n",
    "data = reviews[:500,:]\n",
    "preds = kmean_res.predict(data)\n",
    "def rand_index(truth,pred):\n",
    "    n = len(pred)\n",
    "    tot = n*(n-1)/2 \n",
    "    a = 0\n",
    "    b = 0\n",
    "    for i in range(n):\n",
    "        for j in range(i+1,n):\n",
    "            if pred[i] == pred[j] and truth[i]==truth[j]:\n",
    "                a = a + 1\n",
    "            if pred[i] != pred[j] and truth[i]!=truth[j]:\n",
    "                b = b + 1\n",
    "    return (a+b)/tot\n",
    "\n",
    "for i in [1,3,5,7,9]:\n",
    "    kmean_res = KMeans(n_clusters=i).fit(reviews)\n",
    "    pred = kmean_res.predict(data)\n",
    "    print(rand_index(ground_truth, pred))"
   ]
  },
  {
   "cell_type": "markdown",
   "metadata": {},
   "source": [
    "*TODO: Insert a summary of your results here*  \n",
    "**Summary:**  \n",
    "The result above shows clustering with 7 center performs best. We can also check total number of class type by `print(len(set(ground_truth)))`, and we can see the ground truth is 6. That's why 7 has the highest rand index score."
   ]
  },
  {
   "cell_type": "code",
   "execution_count": 10,
   "metadata": {},
   "outputs": [
    {
     "name": "stdout",
     "output_type": "stream",
     "text": [
      "6\n"
     ]
    }
   ],
   "source": [
    "print(len(set(ground_truth)))"
   ]
  },
  {
   "cell_type": "markdown",
   "metadata": {},
   "source": [
    "## Topic modelling data set"
   ]
  },
  {
   "cell_type": "markdown",
   "metadata": {},
   "source": [
    "The data set for the topic modelling part of this lab is the collection of all [State of the Union](https://en.wikipedia.org/wiki/State_of_the_Union) addresses from the years 1975–2000. These speeches come as a single text file with one sentence per line. The following code cell prints the first 5 lines from the data file:"
   ]
  },
  {
   "cell_type": "code",
   "execution_count": 11,
   "metadata": {},
   "outputs": [
    {
     "name": "stdout",
     "output_type": "stream",
     "text": [
      "mr speaker mr vice president members of the 94th congress and distinguished guests\n",
      "twenty six years ago a freshman congressman a young fellow with lots of idealism who was out to change the world stood before sam rayburn in the well of the house and solemnly swore to the same oath that all of you took yesterday an unforgettable experience and i congratulate you all\n",
      "two days later that same freshman stood at the back of this great chamber over there someplace as president truman all charged up by his single handed election victory reported as the constitution requires on the state of the union\n",
      "when the bipartisan applause stopped president truman said i am happy to report to this 81st congress that the state of the union is good our nation is better able than ever before to meet the needs of the american people and to give them their fair chance in the pursuit of happiness it is foremost among the nations of the world in the search for peace\n",
      "today that freshman member from michigan stands where mr truman stood and i must say to you that the state of the union is not good\n",
      "millions of americans are out of work\n"
     ]
    }
   ],
   "source": [
    "with open('sotu_1975_2000.txt') as source:\n",
    "    for i, line in enumerate(source):\n",
    "        print(line.rstrip())\n",
    "        if i >= 5:\n",
    "            break"
   ]
  },
  {
   "cell_type": "markdown",
   "metadata": {},
   "source": [
    "Take a few minutes to think about what topics you would expect in this data set."
   ]
  },
  {
   "cell_type": "markdown",
   "metadata": {},
   "source": [
    "## Problem 4: Train a topic model"
   ]
  },
  {
   "cell_type": "markdown",
   "metadata": {},
   "source": [
    "Your first task on the topic modelling data is to train an LDA model. For this task you will be using [spaCy](https://spacy.io/) and the [gensim](https://radimrehurek.com/gensim/) topic modelling library.\n",
    "\n",
    "Start by preprocessing the data using spaCy. Given that the data set for this problem is rather small, you do not have to exclude any components from the standard pipeline. Filter out stop words, non-alphabetic tokens, and tokens less than 3 characters in length. Store the documents as a nested list where the first level of nesting corresponds to the sentences and the second level corresponds to the tokens in each sentence."
   ]
  },
  {
   "cell_type": "code",
   "execution_count": 12,
   "metadata": {},
   "outputs": [],
   "source": [
    "# TODO: Replace the following lines with your own code for preprocessing the documents\n",
    "import spacy\n",
    "with open('sotu_1975_2000.txt') as source:\n",
    "    nlp = spacy.load(\"en_core_web_sm\")\n",
    "    documents = [[token.text for token in nlp(line) if token.is_stop == False and token.is_alpha == True and len(token) > 2]  for line in source]"
   ]
  },
  {
   "cell_type": "markdown",
   "metadata": {},
   "source": [
    "Test your preprocessing by running the following cell:"
   ]
  },
  {
   "cell_type": "code",
   "execution_count": 15,
   "metadata": {},
   "outputs": [
    {
     "name": "stdout",
     "output_type": "stream",
     "text": [
      "<class 'list'>\n"
     ]
    }
   ],
   "source": [
    "' '.join(documents[42])\n",
    "print(type(documents[0]))\n"
   ]
  },
  {
   "cell_type": "markdown",
   "metadata": {},
   "source": [
    "You should get the following output:"
   ]
  },
  {
   "cell_type": "raw",
   "metadata": {},
   "source": [
    "'reduce oil imports million barrels day end year million barrels day end'"
   ]
  },
  {
   "cell_type": "markdown",
   "metadata": {},
   "source": [
    "Once you have the list of documents, skim the section [Pre-process and vectorize the documents](https://radimrehurek.com/gensim/auto_examples/tutorials/run_lda.html#pre-process-and-vectorize-the-documents) of the gensim documentation to learn how to create the dictionary and the vectorized corpus representation required by gensim. (Note that you cannot use the standard scikit-learn pipeline in this case.) Then, write code to train an [LdaModel](https://radimrehurek.com/gensim/models/ldamodel.html) for $k=10$ topics, and using default values for all other parameters."
   ]
  },
  {
   "cell_type": "code",
   "execution_count": 27,
   "metadata": {},
   "outputs": [],
   "source": [
    "# TODO: Enter code here to train an LDA model and store it in a variable `model`\n",
    "from gensim.corpora import Dictionary\n",
    "from gensim.models import LdaModel\n",
    "\n",
    "dic = Dictionary(documents)\n",
    "vec_corpus = [dic.doc2bow(line) for line in documents]\n",
    "dic[0]\n",
    "model = LdaModel(corpus=vec_corpus,id2word=dic.id2token,num_topics=10)"
   ]
  },
  {
   "cell_type": "markdown",
   "metadata": {},
   "source": [
    "Once you have a trained model, run the following cell to print the topics:"
   ]
  },
  {
   "cell_type": "code",
   "execution_count": 28,
   "metadata": {},
   "outputs": [
    {
     "data": {
      "text/plain": [
       "[(0,\n",
       "  '0.017*\"work\" + 0.016*\"america\" + 0.014*\"children\" + 0.014*\"people\" + 0.010*\"new\" + 0.009*\"let\" + 0.008*\"american\" + 0.007*\"care\" + 0.006*\"welfare\" + 0.006*\"americans\"'),\n",
       " (1,\n",
       "  '0.011*\"new\" + 0.008*\"years\" + 0.007*\"world\" + 0.007*\"congress\" + 0.007*\"nation\" + 0.007*\"people\" + 0.007*\"year\" + 0.006*\"time\" + 0.006*\"america\" + 0.006*\"national\"'),\n",
       " (2,\n",
       "  '0.009*\"america\" + 0.008*\"world\" + 0.005*\"crime\" + 0.005*\"peace\" + 0.005*\"freedom\" + 0.005*\"years\" + 0.005*\"nations\" + 0.004*\"year\" + 0.004*\"allies\" + 0.004*\"time\"'),\n",
       " (3,\n",
       "  '0.014*\"government\" + 0.007*\"people\" + 0.006*\"tax\" + 0.005*\"congress\" + 0.005*\"help\" + 0.005*\"states\" + 0.005*\"northern\" + 0.005*\"work\" + 0.005*\"tobacco\" + 0.005*\"federal\"'),\n",
       " (4,\n",
       "  '0.010*\"america\" + 0.007*\"right\" + 0.007*\"teen\" + 0.006*\"people\" + 0.006*\"ask\" + 0.006*\"help\" + 0.006*\"years\" + 0.006*\"know\" + 0.005*\"congress\" + 0.005*\"american\"'),\n",
       " (5,\n",
       "  '0.010*\"years\" + 0.009*\"million\" + 0.009*\"year\" + 0.006*\"world\" + 0.005*\"american\" + 0.005*\"people\" + 0.005*\"percent\" + 0.005*\"family\" + 0.005*\"new\" + 0.005*\"day\"'),\n",
       " (6,\n",
       "  '0.011*\"congress\" + 0.009*\"new\" + 0.008*\"years\" + 0.008*\"budget\" + 0.007*\"america\" + 0.007*\"americans\" + 0.007*\"government\" + 0.007*\"year\" + 0.006*\"people\" + 0.006*\"president\"'),\n",
       " (7,\n",
       "  '0.015*\"new\" + 0.012*\"year\" + 0.012*\"people\" + 0.011*\"years\" + 0.008*\"america\" + 0.007*\"world\" + 0.007*\"americans\" + 0.006*\"budget\" + 0.006*\"help\" + 0.006*\"american\"'),\n",
       " (8,\n",
       "  '0.010*\"world\" + 0.009*\"america\" + 0.008*\"tonight\" + 0.007*\"nuclear\" + 0.007*\"state\" + 0.006*\"years\" + 0.006*\"grade\" + 0.006*\"union\" + 0.005*\"better\" + 0.005*\"children\"'),\n",
       " (9,\n",
       "  '0.008*\"people\" + 0.007*\"year\" + 0.007*\"national\" + 0.007*\"american\" + 0.007*\"challenge\" + 0.007*\"know\" + 0.007*\"congress\" + 0.007*\"new\" + 0.006*\"way\" + 0.006*\"government\"')]"
      ]
     },
     "execution_count": 28,
     "metadata": {},
     "output_type": "execute_result"
    }
   ],
   "source": [
    "model.print_topics()"
   ]
  },
  {
   "cell_type": "markdown",
   "metadata": {},
   "source": [
    "Inspect the topics. Can you &lsquo;label&rsquo; each topic with a short description of what it is about? Do the topics match your expectations?\n",
    "\n",
    "0: It's about social welfare.  \n",
    "1: Can't tell.  \n",
    "2: It's about social security and crime.  \n",
    "3: government policy about tobacco and tax.  \n",
    "4: no idea  \n",
    "5: families statistics in america  \n",
    "6: no idea  \n",
    "7: no idea  \n",
    "8: no idea  \n",
    "9: no idea"
   ]
  },
  {
   "cell_type": "markdown",
   "metadata": {},
   "source": [
    "## Problem 5: Monitor a topic model for convergence"
   ]
  },
  {
   "cell_type": "markdown",
   "metadata": {},
   "source": [
    "When learning an LDA model, it is important to make sure that the training algorithm has converged to a stable posterior distribution. One way to do so is to plot, after each training epochs (or &lsquo;pass&rsquo;, in gensim parlance) the log likelihood of the training data under the posterior. Your last task in this lab is to create such a plot and, based on this, to suggest an appropriate number of epochs.\n",
    "\n",
    "To collect information about the posterior likelihood after each pass, we need to enable the logging facilities of gensim. Once this is done, gensim will add various diagnostics to a log file `gensim.log`."
   ]
  },
  {
   "cell_type": "code",
   "execution_count": 30,
   "metadata": {},
   "outputs": [],
   "source": [
    "import logging\n",
    "\n",
    "logging.basicConfig(filename='gensim.log', format='%(asctime)s:%(levelname)s:%(message)s', level=logging.INFO)"
   ]
  },
  {
   "cell_type": "markdown",
   "metadata": {},
   "source": [
    "The following function will parse the generated logfile and return the list of log likelihoods."
   ]
  },
  {
   "cell_type": "code",
   "execution_count": 31,
   "metadata": {},
   "outputs": [],
   "source": [
    "import re\n",
    "\n",
    "def parse_logfile():\n",
    "    matcher = re.compile('(-*\\d+\\.\\d+) per-word .* (\\d+\\.\\d+) perplexity')\n",
    "    likelihoods = []\n",
    "    with open('gensim.log') as source:\n",
    "        for line in source:\n",
    "            match = matcher.search(line)\n",
    "            if match:\n",
    "                likelihoods.append(float(match.group(1)))\n",
    "    return likelihoods"
   ]
  },
  {
   "cell_type": "markdown",
   "metadata": {},
   "source": [
    "Your task now is to re-train your LDA model for 50&nbsp;passes, retrieve the list of log likelihoods, and create a plot from this data."
   ]
  },
  {
   "cell_type": "code",
   "execution_count": 32,
   "metadata": {},
   "outputs": [
    {
     "data": {
      "text/plain": [
       "[<matplotlib.lines.Line2D at 0x1d93d71cb20>]"
      ]
     },
     "execution_count": 32,
     "metadata": {},
     "output_type": "execute_result"
    },
    {
     "data": {
      "image/png": "[encoded data removed]",
      "text/plain": [
       "<Figure size 640x480 with 1 Axes>"
      ]
     },
     "metadata": {},
     "output_type": "display_data"
    }
   ],
   "source": [
    "# TODO: Enter code here to generate the convergence plot\n",
    "import matplotlib.pyplot as plt\n",
    "model = LdaModel(corpus=vec_corpus,id2word=dic.id2token,num_topics=10,passes=50)\n",
    "plt.plot(parse_logfile())"
   ]
  },
  {
   "cell_type": "markdown",
   "metadata": {},
   "source": [
    "How do you interpret your plot? Based on the plot, what would be a reasonable choice for the number of passes? Retrain your LDA model with that number and re-inspect the topics it finds. Do you consider the new topics to be &lsquo;better&rsquo; than the ones that you got from the 1-pass model in Problem&nbsp;4?"
   ]
  },
  {
   "cell_type": "markdown",
   "metadata": {},
   "source": [
    "The likelihood curve start to meet convergence when passes are above 40."
   ]
  },
  {
   "cell_type": "code",
   "execution_count": 33,
   "metadata": {},
   "outputs": [
    {
     "data": {
      "text/plain": [
       "[(0,\n",
       "  '0.016*\"schools\" + 0.014*\"children\" + 0.013*\"school\" + 0.012*\"college\" + 0.012*\"help\" + 0.010*\"know\" + 0.010*\"people\" + 0.009*\"congress\" + 0.009*\"teachers\" + 0.009*\"community\"'),\n",
       " (1,\n",
       "  '0.024*\"federal\" + 0.020*\"tax\" + 0.016*\"government\" + 0.016*\"budget\" + 0.013*\"new\" + 0.011*\"year\" + 0.011*\"congress\" + 0.011*\"education\" + 0.010*\"spending\" + 0.010*\"billion\"'),\n",
       " (2,\n",
       "  '0.026*\"america\" + 0.022*\"people\" + 0.016*\"americans\" + 0.015*\"american\" + 0.014*\"world\" + 0.012*\"new\" + 0.011*\"years\" + 0.011*\"let\" + 0.011*\"century\" + 0.010*\"work\"'),\n",
       " (3,\n",
       "  '0.011*\"year\" + 0.008*\"government\" + 0.008*\"reform\" + 0.007*\"new\" + 0.007*\"people\" + 0.006*\"hold\" + 0.006*\"senate\" + 0.006*\"covenant\" + 0.006*\"campaign\" + 0.005*\"teen\"'),\n",
       " (4,\n",
       "  '0.017*\"children\" + 0.016*\"work\" + 0.012*\"thank\" + 0.012*\"child\" + 0.009*\"parents\" + 0.009*\"crime\" + 0.009*\"welfare\" + 0.008*\"bill\" + 0.008*\"people\" + 0.008*\"need\"'),\n",
       " (5,\n",
       "  '0.014*\"trade\" + 0.010*\"world\" + 0.010*\"environment\" + 0.010*\"protect\" + 0.007*\"water\" + 0.007*\"best\" + 0.006*\"bosnia\" + 0.006*\"scientists\" + 0.006*\"environmental\" + 0.005*\"tonight\"'),\n",
       " (6,\n",
       "  '0.015*\"economic\" + 0.012*\"new\" + 0.010*\"energy\" + 0.008*\"years\" + 0.008*\"policy\" + 0.008*\"program\" + 0.007*\"growth\" + 0.007*\"inflation\" + 0.006*\"economy\" + 0.006*\"nation\"'),\n",
       " (7,\n",
       "  '0.022*\"care\" + 0.021*\"health\" + 0.015*\"families\" + 0.013*\"year\" + 0.012*\"congress\" + 0.012*\"americans\" + 0.011*\"work\" + 0.010*\"president\" + 0.010*\"working\" + 0.009*\"welfare\"'),\n",
       " (8,\n",
       "  '0.025*\"security\" + 0.017*\"social\" + 0.015*\"peace\" + 0.010*\"states\" + 0.010*\"world\" + 0.009*\"people\" + 0.008*\"middle\" + 0.008*\"east\" + 0.007*\"rights\" + 0.007*\"united\"'),\n",
       " (9,\n",
       "  '0.018*\"nuclear\" + 0.016*\"america\" + 0.016*\"world\" + 0.011*\"war\" + 0.010*\"peace\" + 0.009*\"weapons\" + 0.009*\"freedom\" + 0.008*\"nation\" + 0.007*\"forces\" + 0.006*\"space\"')]"
      ]
     },
     "execution_count": 33,
     "metadata": {},
     "output_type": "execute_result"
    }
   ],
   "source": [
    "model = LdaModel(corpus=vec_corpus,id2word=dic.id2token,num_topics=10,passes=40)\n",
    "model.print_topics()"
   ]
  },
  {
   "cell_type": "markdown",
   "metadata": {},
   "source": [
    "0: education \n",
    "1: tax and national budget  \n",
    "2: no idea  \n",
    "3: america policy and new policy  \n",
    "4: child-care and family  \n",
    "5: globalization and environment    \n",
    "6: economy  \n",
    "7: family health care  \n",
    "8: social security  \n",
    "9: military topics  \n",
    "We can see now the theme of each topic are clearer than topics in question4."
   ]
  },
  {
   "cell_type": "markdown",
   "metadata": {},
   "source": [
    "## Reflection questions"
   ]
  },
  {
   "cell_type": "markdown",
   "metadata": {},
   "source": [
    "The following reflection questions will help you prepare for the diagnostic test. Answer each of them in the form of a short text and put your answers in the cell below. You will get feedback on your answers from your lab assistant."
   ]
  },
  {
   "cell_type": "markdown",
   "metadata": {},
   "source": [
    "**RQ 3.1:** Based on your experiments in Problem&nbsp;2 and Problem&nbsp;3, what is the relation between the quality of a clustering and the number of clusters? What happens when the number of clusters is too low, or too high? For this particular data set, what would a &lsquo;good&rsquo; number of clusters be?\n",
    "\n",
    "**RQ 3.2:** Explain why it is important to monitor an LDA model for convergence and not simply use, say, 1000&nbsp;passes. How is the log likelihood used in this context? Were the topics from the multi-pass model &lsquo;better&rsquo; than the topics from the 1-pass model?\n",
    "\n",
    "**RQ 3.3:** What are the differences between $k$-means and LDA? When would you use one, when the other?"
   ]
  },
  {
   "cell_type": "markdown",
   "metadata": {},
   "source": [
    "**A 3.1**:  \n",
    "If the number of clusters is too low, one cluster may contain key words from different topics, so it;s hard to tell the theme of the text.  \n",
    "If the number of clusters is too high, some clusters may have too specific words so it's hard to generalize.  \n",
    "Only when number of clusters match the ground truth (or some specific requirements), will the quality of clusters become good. In this task, the best number of clusters is 7 according to the results in P3."
   ]
  },
  {
   "cell_type": "markdown",
   "metadata": {},
   "source": [
    "**A 3.2**:  \n",
    "Because when training the model, time-efficiency is also a huge concern. If the likelihood converge when passes is 40, then there is no need to use higher passes since the improvement cannot match the time cost. And the log-likelihood here is a tool to score how well the model perform.  \n",
    "\n",
    "In this lab, multi-passes is better than 1-pass model. But in other tasks it may differ."
   ]
  },
  {
   "cell_type": "markdown",
   "metadata": {},
   "source": [
    "**A 3.3**:  \n",
    "k-means is hard classifier and LDA is a soft model. For topic modelling, LDA is better and for data clustering we can use k-means."
   ]
  },
  {
   "cell_type": "markdown",
   "metadata": {},
   "source": [
    "**Congratulations on finishing L3! 👍**"
   ]
  },
  {
   "cell_type": "code",
   "execution_count": null,
   "metadata": {},
   "outputs": [],
   "source": []
  }
 ],
 "metadata": {
  "kernelspec": {
   "display_name": "Python 3 (ipykernel)",
   "language": "python",
   "name": "python3"
  },
  "language_info": {
   "codemirror_mode": {
    "name": "ipython",
    "version": 3
   },
   "file_extension": ".py",
   "mimetype": "text/x-python",
   "name": "python",
   "nbconvert_exporter": "python",
   "pygments_lexer": "ipython3",
   "version": "3.9.7"
  }
 },
 "nbformat": 4,
 "nbformat_minor": 4
}
