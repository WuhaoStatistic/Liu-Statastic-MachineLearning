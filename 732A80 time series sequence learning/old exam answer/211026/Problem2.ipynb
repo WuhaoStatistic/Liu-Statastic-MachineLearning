{
 "cells": [
  {
   "cell_type": "code",
   "execution_count": 1,
   "metadata": {},
   "outputs": [],
   "source": [
    "import numpy as np\n",
    "import pandas as pd\n",
    "import matplotlib.pyplot as plt"
   ]
  },
  {
   "cell_type": "markdown",
   "metadata": {},
   "source": [
    "# Problem 2\n",
    "(11 points)"
   ]
  },
  {
   "cell_type": "markdown",
   "metadata": {},
   "source": [
    "**a)** In this problem we will study a **structural time series** model.\n",
    "$$\n",
    "    \\begin{cases} \\alpha_t = T \\alpha_{t-1} + R \\eta_t, & \\eta_t \\sim \\mathcal{N}(0,Q), \\\\ y_t = Z \\alpha_t + \\varepsilon_t, & \\varepsilon_t \\sim \\mathcal{N}(0,H), \\end{cases}\n",
    "$$\n",
    "where $\\alpha_t$ contains a trend and seasonal part.\n",
    "The trend in this model is **linear** but the seasonality is unknown.\n",
    "We let the variances of the model be $\\sigma_{\\mu}^2 = 0.1^2$, $\\sigma_{\\gamma}^2 = 0.1^2$, and $\\sigma_{\\varepsilon}^2 = 1$.\n",
    "\n",
    "The data file `data_problem2.csv` contains a sequence of observations from this model over a few years. Using this data you are tasked to do the following:\n",
    "\n",
    "1. Look at the provided data and find the seasonality $s$.\n",
    "2. Setup the complete model by writing down the matrices $T$, $R$, $Q$, $Z$, and $H$. Also specify your hidden states $\\alpha_t$. Remember to motivate your choices of matrices.\n",
    "3. Set up the mean vector of the initial distribution such that \n",
    "    * The trend component starts at the first observation,\n",
    "    * The slope of the trend is _a priori_ zero in expectation,\n",
    "    * The initial mean of all states related to the seasonal component are zero.\n",
    "4. Set up the initial covariance matrix as a diagonal matrix with 100 on the diagonal.\n",
    "\n",
    "<div style=\"text-align: right\"> (4p) </div>"
   ]
  },
  {
   "cell_type": "code",
   "execution_count": 2,
   "metadata": {},
   "outputs": [],
   "source": [
    "data = pd.read_csv('data_problem2.csv',header=0)\n",
    "y = data['Data'].values\n",
    "u = data['Dates'].values\n",
    "\n",
    "from tssltools import LGSS"
   ]
  },
  {
   "cell_type": "markdown",
   "metadata": {},
   "source": [
    "**Solution:**"
   ]
  },
  {
   "cell_type": "code",
   "execution_count": 4,
   "metadata": {},
   "outputs": [
    {
     "name": "stdout",
     "output_type": "stream",
     "text": [
      "[50.1012644  50.54930816 48.56720102 48.27293617 48.19064665 47.509812\n",
      " 47.11368354 46.39558782 46.71347097 45.99181848 46.34488156 46.17362559\n",
      " 46.20419207 45.87863177 46.80555568 46.59578129 46.65919836 46.60038231\n",
      " 47.92357217 47.7419091  48.37717956 49.13881944 49.13444967 49.51604609\n",
      " 50.43548537 50.15600977 50.48842373 50.66835841 50.94851877 50.95775625\n",
      " 51.00314446 50.65423242 50.83023203 50.27702801 49.62812419 49.53160717\n",
      " 49.73076085 49.29359378 48.91693186 48.26511641]\n"
     ]
    },
    {
     "data": {
      "image/png": "[encoded data removed]",
      "text/plain": [
       "<Figure size 432x288 with 1 Axes>"
      ]
     },
     "metadata": {
      "needs_background": "light"
     },
     "output_type": "display_data"
    }
   ],
   "source": [
    "plt.plot(u,y)\n",
    "print(y[:40])"
   ]
  },
  {
   "cell_type": "markdown",
   "metadata": {},
   "source": [
    "**(1)**: The plot shows a clear seasonal part in the model. The seasonality can be counted as the number of observation from first peak value to the onservation before the second peak value. In total is 24 observation, so s = 29."
   ]
  },
  {
   "cell_type": "markdown",
   "metadata": {},
   "source": [
    "___"
   ]
  },
  {
   "cell_type": "code",
   "execution_count": 10,
   "metadata": {},
   "outputs": [
    {
     "name": "stdout",
     "output_type": "stream",
     "text": [
      "(30, 30)\n"
     ]
    }
   ],
   "source": [
    "s = 29\n",
    "# matrix for mu\n",
    "T_mu = np.matrix([[2, -1],[1, 0]])\n",
    "R_mu = np.matrix([[1],[0]])\n",
    "Z_mu = np.matrix([1, 0]) \n",
    "# matrix for gamma\n",
    "T_gamma = np.eye(s-1, k = -1)\n",
    "T_gamma[0,:] = -1\n",
    "R_gamma = np.zeros((s-1,1))\n",
    "R_gamma[0,0] = 1\n",
    "Z_gamma = np.zeros((1,s-1))\n",
    "Z_gamma[0,0] = 1\n",
    "# mix them together\n",
    "from scipy.linalg import block_diag\n",
    "T = block_diag(T_mu,T_gamma)\n",
    "R = block_diag(R_mu,R_gamma)\n",
    "Z = np.concatenate((Z_mu,Z_gamma),1)\n",
    "Q = np.array([[0.1**2, 0.], [0., 0.1**2]])\n",
    "H = np.array([1])\n",
    "#\n",
    "a1 = np.zeros((s-1+2,1))\n",
    "# initial state : first two elements should be equal\n",
    "# see course notes L5 a\n",
    "a1[0:2,0] = (y[0],y[0])\n",
    "P1 = np.eye(s-1+2)*100\n",
    "print(T.shape)"
   ]
  },
  {
   "cell_type": "markdown",
   "metadata": {},
   "source": [
    "**b)** When performing inference in a structural time series model we are interested in the distribution of the hidden states given the data. You find your implementation of the Kalman filter but unfortunately some parts of the code is missing, to fix this you should do the following:\n",
    "\n",
    "1. Derive the conditional distribution of $\\alpha_{t+1} \\mid \\alpha_t, y_{1:t}$. **distribution**  \n",
    "2. Use these results to compelte the implementation of the Kalman filter below. \n",
    "\n",
    "<div style=\"text-align: right\"> (3p) </div>"
   ]
  },
  {
   "cell_type": "markdown",
   "metadata": {},
   "source": [
    "$\\alpha_{t+1}$ is Normal distribution, mean and variance can be calculated from $\\alpha_t$ "
   ]
  },
  {
   "cell_type": "code",
   "execution_count": 7,
   "metadata": {},
   "outputs": [
    {
     "name": "stdout",
     "output_type": "stream",
     "text": [
      "(1, 30)\n"
     ]
    }
   ],
   "source": [
    "print(Z.shape)"
   ]
  },
  {
   "cell_type": "markdown",
   "metadata": {},
   "source": [
    "**Solution:**"
   ]
  },
  {
   "cell_type": "code",
   "execution_count": 8,
   "metadata": {},
   "outputs": [],
   "source": [
    "from tssltools import kfs_res\n",
    "\n",
    "def kalman_filter(y, model: LGSS):\n",
    "    \"\"\"Kalman filter for LGSS model with one-dimensional observation.\n",
    "\n",
    "    :param y: (n,) array of observations. May contain nan, which encodes missing observations.\n",
    "    :param model: LGSS object with the model specification.\n",
    "    \n",
    "    :return kfs_res: Container class with member variables,\n",
    "        alpha_pred: (d,1,n) array of predicted state means.\n",
    "        P_pred: (d,d,n) array of predicted state covariances.\n",
    "        alpha_filt: (d,1,n) array of filtered state means.\n",
    "        P_filt: (d,d,n) array of filtered state covariances.\n",
    "        y_pred: (n,) array of means of p(y_t | y_{1:t-1})\n",
    "        F_pred: (n,) array of variances of p(y_t | y_{1:t-1})\n",
    "    \"\"\"\n",
    "\n",
    "    n = len(y)\n",
    "    d = model.d\n",
    "    alpha_pred = np.zeros((d, 1, n))\n",
    "    P_pred = np.zeros((d, d, n))\n",
    "    alpha_filt = np.zeros((d, 1, n))\n",
    "    P_filt = np.zeros((d, d, n))\n",
    "    y_pred = np.zeros(n)\n",
    "    F_pred = np.zeros(n)\n",
    "\n",
    "    T, R, Q, Z, H, a1, P1 = model.get_params() \n",
    "\n",
    "    for t in range(n):\n",
    "        # Time update (predict)\n",
    "        if t == 0:  \n",
    "            alpha_pred[:, 0, 0] = np.squeeze(a1) \n",
    "            P_pred[:, :, 0] = P1\n",
    "        else:\n",
    "            ##############################\n",
    "            # ADD CODE HERE:\n",
    "            alpha_pred[:,:,t] = T@alpha_filt[:,:,t-1]\n",
    "            P_pred[:,:,t] = T@P_filt[:,:,t-1]@T.T+R@Q@R.T\n",
    "            ###############################\n",
    "\n",
    "        # Compute prediction of current output\n",
    "        y_pred[t] = Z @ alpha_pred[:, :, t]\n",
    "        F_pred[t] = Z @ P_pred[:, :, t] @ Z.T + H\n",
    "\n",
    "        # Measurement update\n",
    "        if np.isnan(y[t]):\n",
    "            alpha_filt[:, :, t] = alpha_pred[:, :, t].copy()\n",
    "            P_filt[:, :, t] = P_pred[:, :, t].copy()\n",
    "        else:\n",
    "            K = P_pred[:, :, t] @ Z.T / F_pred[t]\n",
    "            alpha_filt[:, :, t] = alpha_pred[:, :, t] + K * (y[t] - y_pred[t])\n",
    "            P_filt[:, :, t] = (np.identity(d) - K @ Z) @ P_pred[:, :, t]\n",
    "\n",
    "    kf = kfs_res(alpha_pred, P_pred, alpha_filt, P_filt, y_pred, F_pred)\n",
    "    return kf"
   ]
  },
  {
   "cell_type": "markdown",
   "metadata": {},
   "source": [
    "___"
   ]
  },
  {
   "cell_type": "markdown",
   "metadata": {},
   "source": [
    "**c)** As you look into the data you may have noticed that some data-points are missing, you are interested in trying to estimate this missing sequence.\n",
    "\n",
    "For this task you should do the following:\n",
    "\n",
    "1. Run the Kalman filter and Kalman smoother on the data.\n",
    "2. Generate a plot showing the data, the filtered estimates $\\mathbb{E}[Z \\alpha_t \\mid y_{1:t}]$ and the smoothed estimates $\\mathbb{E}[Z \\alpha_t \\mid y_{1:n}]$ for all $t$.\n",
    "3. For both the filter and smoothing estiamtes you should add $\\pm 1$ standard deviation.\n",
    "4. Discuss the difference between the estimates (both mean and standard deviation) of the filter and the smoother.\n",
    "\n",
    "<div style=\"text-align: right\"> (4p) </div>"
   ]
  },
  {
   "cell_type": "markdown",
   "metadata": {},
   "source": [
    "**Solution:**"
   ]
  },
  {
   "cell_type": "code",
   "execution_count": 9,
   "metadata": {},
   "outputs": [
    {
     "data": {
      "image/png": "[encoded data removed]",
      "text/plain": [
       "<Figure size 432x288 with 1 Axes>"
      ]
     },
     "metadata": {
      "needs_background": "light"
     },
     "output_type": "display_data"
    }
   ],
   "source": [
    "from tssltools import LGSS, kalman_smoother\n",
    "model = LGSS(T, R, Q, Z, H, a1, P1)\n",
    "kf = kalman_filter(y,model)\n",
    "sm_res = kalman_smoother(y,model,kf)\n",
    "\n",
    "v = sm_res.V\n",
    "m = sm_res.alpha_sm\n",
    "\n",
    "# note: Answer below are refered to teacher's explanation not directly copy from his answer (there is no answer)\n",
    "\n",
    "\n",
    "# here we need to have state mean and variance first,\n",
    "# for mean is just Z @ mean(alpha_t)\n",
    "# for variance we need Z @ var(alpha_t) @ Z.T\n",
    "\n",
    "#filter\n",
    "# calculate all mean value of Z@ alpha_t\n",
    "z_alphat_mean = np.squeeze(np.array([Z@kf.alpha_filt[:,:,x] for x in np.arange(len(u))]))\n",
    "# calculate all variance value of Z@ alpha_t\n",
    "z_alphat_var = np.squeeze(np.array([Z@kf.P_filt[:,:,x]@Z.T for x in np.arange(len(u))]))\n",
    "\n",
    "#smoothed\n",
    "# The different thing compared with the lab is:\n",
    "# in the lab we are asked to perform st which is the sum of mu_t and gamma_t\n",
    "# These two things are mentioned in  the Lecture 5 and Seminar that only the first row of each part (trend and seasonal) are under consideration\n",
    "# But here we need alpha which would refer to all the value in the vector\n",
    "\n",
    "# calculate all mean value of Z@ alpha_t\n",
    "sz_alphat_mean = np.squeeze(np.array([Z@m[:,:,x] for x in np.arange(len(u))]))\n",
    "# calculate all variance value of Z@ alpha_t\n",
    "sz_alphat_var = np.squeeze(np.array([Z@v[:,:,x]@Z.T for x in np.arange(len(u))]))\n",
    "\n",
    "# The results here can be understanded as following:\n",
    "# Z@alpha_t in our model is quite close to y (only missing a error term), so we make comparasion between original data \n",
    "# and estimated data from both filter and smoother\n",
    "\n",
    "plt.plot(u,y,c='b',label='original data')\n",
    "plt.plot(u,z_alphat_mean,c='g',label='filter est')\n",
    "plt.plot(u,z_alphat_mean+np.sqrt(z_alphat_var),'--',c='b',label = 'filter bound')\n",
    "plt.plot(u,z_alphat_mean-np.sqrt(z_alphat_var),'--',c='b',label = 'filter bound')\n",
    "plt.plot(u,sz_alphat_mean,c='y',label = 'smoothed est')\n",
    "plt.plot(u,sz_alphat_mean-np.sqrt(sz_alphat_var),'--',c='r',label = 'smoothed bound')\n",
    "plt.plot(u,sz_alphat_mean+np.sqrt(sz_alphat_var),'--',c='r',label = 'smoothed bound')\n",
    "plt.legend()\n",
    "plt.show()\n"
   ]
  },
  {
   "cell_type": "code",
   "execution_count": null,
   "metadata": {},
   "outputs": [],
   "source": [
    "#Answer for question4 is just simply make some comparasion"
   ]
  }
 ],
 "metadata": {
  "kernelspec": {
   "display_name": "Python 3 (ipykernel)",
   "language": "python",
   "name": "python3"
  },
  "language_info": {
   "codemirror_mode": {
    "name": "ipython",
    "version": 3
   },
   "file_extension": ".py",
   "mimetype": "text/x-python",
   "name": "python",
   "nbconvert_exporter": "python",
   "pygments_lexer": "ipython3",
   "version": "3.8.13"
  }
 },
 "nbformat": 4,
 "nbformat_minor": 4
}
